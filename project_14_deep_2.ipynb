{
 "cells": [
  {
   "cell_type": "markdown",
   "metadata": {},
   "source": [
    "# Final Project - CSI4106\n",
    "Group: project_14\n",
    "\n",
    " Tristan Pender - 300065847 - tpend052@uottawa.ca\n",
    "\n",
    " Rafael Villacorta - 300061289 - rvill094@uottawa.ca\n",
    " \n",
    " Hans Barrera - 300080843 - hbarr050@uottawa.ca"
   ]
  },
  {
   "cell_type": "code",
   "execution_count": 100,
   "metadata": {},
   "outputs": [
    {
     "data": {
      "text/plain": [
       "Reusing TensorBoard on port 6008 (pid 75511), started 2:27:02 ago. (Use '!kill 75511' to kill it.)"
      ]
     },
     "metadata": {},
     "output_type": "display_data"
    },
    {
     "data": {
      "text/html": [
       "\n",
       "      <iframe id=\"tensorboard-frame-1c80317fa3b1799d\" width=\"100%\" height=\"800\" frameborder=\"0\">\n",
       "      </iframe>\n",
       "      <script>\n",
       "        (function() {\n",
       "          const frame = document.getElementById(\"tensorboard-frame-1c80317fa3b1799d\");\n",
       "          const url = new URL(\"http://localhost\");\n",
       "          const port = 6008;\n",
       "          if (port) {\n",
       "            url.port = port;\n",
       "          }\n",
       "          frame.src = url;\n",
       "        })();\n",
       "      </script>\n",
       "    "
      ],
      "text/plain": [
       "<IPython.core.display.HTML object>"
      ]
     },
     "metadata": {},
     "output_type": "display_data"
    }
   ],
   "source": [
    "import numpy as np\n",
    "import tensorflow as tf\n",
    "import random as python_random\n",
    "import pandas as pd\n",
    "from tensorflow import keras\n",
    "from tensorflow.keras import datasets\n",
    "from tensorflow.keras import layers\n",
    "from sklearn.model_selection import train_test_split, StratifiedShuffleSplit, cross_val_score, GridSearchCV\n",
    "from sklearn.preprocessing import OrdinalEncoder, OneHotEncoder, StandardScaler\n",
    "from sklearn.pipeline import Pipeline\n",
    "from sklearn.compose import ColumnTransformer\n",
    "from sklearn import metrics\n",
    "\n",
    "\n",
    "\n",
    "import matplotlib.pyplot as plt\n",
    "from collections import Counter\n",
    "from sklearn.metrics import classification_report\n",
    "import datetime\n",
    "import os\n",
    "# for reproducibility purposes\n",
    "np.random.seed(42)\n",
    "python_random.seed(42)\n",
    "tf.random.set_seed(42)\n",
    "\n",
    "# load tensorboard\n",
    "%reload_ext tensorboard\n",
    "%tensorboard --logdir logs"
   ]
  },
  {
   "cell_type": "code",
   "execution_count": 101,
   "metadata": {},
   "outputs": [],
   "source": [
    "def make_directories():\n",
    "    d = datetime.datetime.today()\n",
    "    timestamp = d.strftime('%Y%m%d_%H%M%S')\n",
    "    # folder to store the tensorboard logs\n",
    "    tensorlog_folder = os.path.join(os.path.curdir, 'logs', timestamp)\n",
    "    # folder to store the trained models\n",
    "    checkpoint_folder = os.path.join(os.path.curdir, 'models', timestamp)\n",
    "\n",
    "    os.mkdir(tensorlog_folder)\n",
    "    os.mkdir(checkpoint_folder)\n",
    "\n",
    "    return checkpoint_folder, tensorlog_folder"
   ]
  },
  {
   "cell_type": "code",
   "execution_count": 102,
   "metadata": {},
   "outputs": [
    {
     "name": "stdout",
     "output_type": "stream",
     "text": [
      "(693071, 57) \n",
      "\n",
      "Index(['id', 'timestamp', 'hour', 'day', 'month', 'datetime', 'timezone',\n",
      "       'source', 'destination', 'cab_type', 'product_id', 'name', 'price',\n",
      "       'distance', 'surge_multiplier', 'latitude', 'longitude', 'temperature',\n",
      "       'apparentTemperature', 'short_summary', 'long_summary',\n",
      "       'precipIntensity', 'precipProbability', 'humidity', 'windSpeed',\n",
      "       'windGust', 'windGustTime', 'visibility', 'temperatureHigh',\n",
      "       'temperatureHighTime', 'temperatureLow', 'temperatureLowTime',\n",
      "       'apparentTemperatureHigh', 'apparentTemperatureHighTime',\n",
      "       'apparentTemperatureLow', 'apparentTemperatureLowTime', 'icon',\n",
      "       'dewPoint', 'pressure', 'windBearing', 'cloudCover', 'uvIndex',\n",
      "       'visibility.1', 'ozone', 'sunriseTime', 'sunsetTime', 'moonPhase',\n",
      "       'precipIntensityMax', 'uvIndexTime', 'temperatureMin',\n",
      "       'temperatureMinTime', 'temperatureMax', 'temperatureMaxTime',\n",
      "       'apparentTemperatureMin', 'apparentTemperatureMinTime',\n",
      "       'apparentTemperatureMax', 'apparentTemperatureMaxTime'],\n",
      "      dtype='object') \n",
      "\n"
     ]
    }
   ],
   "source": [
    "# load the dataset\n",
    "df = pd.read_csv('./data/rideshare_kaggle.csv')\n",
    "\n",
    "# print the dimensionality of the dataframe\n",
    "print(df.shape,\"\\n\")\n",
    "# print the names of the columns that can be used as features when training the machine learning model\n",
    "print(df.columns,\"\\n\")\n",
    "# rename columns and print the new names of the columns to allow for future manipulation of dataframe\n",
    "for column in df.columns:\n",
    "    new_title = column\n",
    "    if ' ' in column:\n",
    "        new_title = new_title.replace(\" \", \"_\")\n",
    "    if '(' in column:\n",
    "        new_title = new_title.replace(\"(\", \"as_\")\n",
    "        new_title = new_title.replace(\")\", \"\")\n",
    "    if '%' in column:\n",
    "        new_title = new_title.replace(\"%\", \"pct\")\n",
    "    if '+' in column:\n",
    "        new_title = new_title.replace(\"+\", \"plus\")\n",
    "    if ',' in column:\n",
    "        new_title = new_title.replace(\",\", \"\")\n",
    "    if '-' in column:\n",
    "        new_title = new_title.replace(\"-\", \"_to_\")\n",
    "    if '$' in column:\n",
    "        new_title = new_title.replace(\"$\", \"_dollars\")\n",
    "    df.rename({column: new_title}, axis=1, inplace=True)     \n"
   ]
  },
  {
   "cell_type": "code",
   "execution_count": 103,
   "metadata": {},
   "outputs": [
    {
     "name": "stdout",
     "output_type": "stream",
     "text": [
      "dataframe shape:\n",
      "(637976, 57)\n",
      "\n",
      "dataframe columns:\n",
      "Index(['id', 'timestamp', 'hour', 'day', 'month', 'datetime', 'timezone',\n",
      "       'source', 'destination', 'cab_type', 'product_id', 'name', 'price',\n",
      "       'distance', 'surge_multiplier', 'latitude', 'longitude', 'temperature',\n",
      "       'apparentTemperature', 'short_summary', 'long_summary',\n",
      "       'precipIntensity', 'precipProbability', 'humidity', 'windSpeed',\n",
      "       'windGust', 'windGustTime', 'visibility', 'temperatureHigh',\n",
      "       'temperatureHighTime', 'temperatureLow', 'temperatureLowTime',\n",
      "       'apparentTemperatureHigh', 'apparentTemperatureHighTime',\n",
      "       'apparentTemperatureLow', 'apparentTemperatureLowTime', 'icon',\n",
      "       'dewPoint', 'pressure', 'windBearing', 'cloudCover', 'uvIndex',\n",
      "       'visibility.1', 'ozone', 'sunriseTime', 'sunsetTime', 'moonPhase',\n",
      "       'precipIntensityMax', 'uvIndexTime', 'temperatureMin',\n",
      "       'temperatureMinTime', 'temperatureMax', 'temperatureMaxTime',\n",
      "       'apparentTemperatureMin', 'apparentTemperatureMinTime',\n",
      "       'apparentTemperatureMax', 'apparentTemperatureMaxTime'],\n",
      "      dtype='object')\n",
      "\n",
      "dataframe sample:\n",
      "                                     id     timestamp  hour  day  month  \\\n",
      "0  424553bb-7174-41ea-aeb4-fe06d4f4b9d7  1.544953e+09     9   16     12   \n",
      "1  4bd23055-6827-41c6-b23b-3c491f24e74d  1.543284e+09     2   27     11   \n",
      "2  981a3613-77af-4620-a42a-0c0866077d1e  1.543367e+09     1   28     11   \n",
      "3  c2d88af2-d278-4bfd-a8d0-29ca77cc5512  1.543554e+09     4   30     11   \n",
      "4  e0126e1f-8ca9-4f2e-82b3-50505a09db9a  1.543463e+09     3   29     11   \n",
      "\n",
      "              datetime          timezone            source    destination  \\\n",
      "0  2018-12-16 09:30:07  America/New_York  Haymarket Square  North Station   \n",
      "1  2018-11-27 02:00:23  America/New_York  Haymarket Square  North Station   \n",
      "2  2018-11-28 01:00:22  America/New_York  Haymarket Square  North Station   \n",
      "3  2018-11-30 04:53:02  America/New_York  Haymarket Square  North Station   \n",
      "4  2018-11-29 03:49:20  America/New_York  Haymarket Square  North Station   \n",
      "\n",
      "  cab_type  ... precipIntensityMax uvIndexTime  temperatureMin  \\\n",
      "0     Lyft  ...             0.1276  1544979600           39.89   \n",
      "1     Lyft  ...             0.1300  1543251600           40.49   \n",
      "2     Lyft  ...             0.1064  1543338000           35.36   \n",
      "3     Lyft  ...             0.0000  1543507200           34.67   \n",
      "4     Lyft  ...             0.0001  1543420800           33.10   \n",
      "\n",
      "   temperatureMinTime  temperatureMax  temperatureMaxTime  \\\n",
      "0          1545012000           43.68          1544968800   \n",
      "1          1543233600           47.30          1543251600   \n",
      "2          1543377600           47.55          1543320000   \n",
      "3          1543550400           45.03          1543510800   \n",
      "4          1543402800           42.18          1543420800   \n",
      "\n",
      "   apparentTemperatureMin  apparentTemperatureMinTime  apparentTemperatureMax  \\\n",
      "0                   33.73                  1545012000                   38.07   \n",
      "1                   36.20                  1543291200                   43.92   \n",
      "2                   31.04                  1543377600                   44.12   \n",
      "3                   30.30                  1543550400                   38.53   \n",
      "4                   29.11                  1543392000                   35.75   \n",
      "\n",
      "  apparentTemperatureMaxTime  \n",
      "0                 1544958000  \n",
      "1                 1543251600  \n",
      "2                 1543320000  \n",
      "3                 1543510800  \n",
      "4                 1543420800  \n",
      "\n",
      "[5 rows x 57 columns]\n",
      "\n"
     ]
    }
   ],
   "source": [
    "df = df.dropna()\n",
    "# Exploratory analysis\n",
    "print(f\"dataframe shape:\\n{df.shape}\\n\")\n",
    "print(f\"dataframe columns:\\n{df.columns}\\n\")\n",
    "print(f\"dataframe sample:\\n{df.head()}\\n\")"
   ]
  },
  {
   "cell_type": "code",
   "execution_count": 104,
   "metadata": {},
   "outputs": [
    {
     "name": "stdout",
     "output_type": "stream",
     "text": [
      "value counts:\n",
      "2018-11-26 23:33:14    151\n",
      "2018-11-29 02:29:08    149\n",
      "2018-11-29 02:47:08    146\n",
      "2018-11-27 00:03:14    146\n",
      "2018-11-29 04:38:08    146\n",
      "                      ... \n",
      "2018-12-03 07:33:03      3\n",
      "2018-11-30 21:33:07      3\n",
      "2018-12-15 06:05:07      3\n",
      "2018-12-13 15:10:13      1\n",
      "2018-11-30 13:17:58      1\n",
      "Name: datetime, Length: 31350, dtype: int64\n",
      "\n",
      "value counts:\n",
      "America/New_York    637976\n",
      "Name: timezone, dtype: int64\n",
      "\n",
      "value counts:\n",
      "Financial District         54197\n",
      "Back Bay                   53201\n",
      "Theatre District           53201\n",
      "Boston University          53172\n",
      "North End                  53171\n",
      "Fenway                     53166\n",
      "Northeastern University    53164\n",
      "South Station              53160\n",
      "Haymarket Square           53147\n",
      "West End                   52980\n",
      "Beacon Hill                52841\n",
      "North Station              52576\n",
      "Name: source, dtype: int64\n",
      "\n",
      "value counts:\n",
      "Financial District         54192\n",
      "Back Bay                   53190\n",
      "Theatre District           53189\n",
      "Haymarket Square           53171\n",
      "Boston University          53171\n",
      "Fenway                     53166\n",
      "Northeastern University    53165\n",
      "North End                  53164\n",
      "South Station              53159\n",
      "West End                   52992\n",
      "Beacon Hill                52840\n",
      "North Station              52577\n",
      "Name: destination, dtype: int64\n",
      "\n",
      "value counts:\n",
      "Uber    330568\n",
      "Lyft    307408\n",
      "Name: cab_type, dtype: int64\n",
      "\n",
      "value counts:\n",
      "6f72dfc5-27f1-42e8-84db-ccc7a75f6969    55096\n",
      "9a0e7b09-b92b-4c41-9779-2ad22b4d779d    55096\n",
      "6d318bcc-22a3-4af6-bddd-b409bfce1546    55096\n",
      "6c84fd89-3f11-4782-9b50-97c468b19529    55095\n",
      "55c66225-fbe7-4fd5-9072-eab1ece5e23e    55094\n",
      "997acbb5-e102-41e1-b155-9df7de0a73f2    55091\n",
      "lyft_premier                            51235\n",
      "lyft                                    51235\n",
      "lyft_luxsuv                             51235\n",
      "lyft_plus                               51235\n",
      "lyft_lux                                51235\n",
      "lyft_line                               51233\n",
      "Name: product_id, dtype: int64\n",
      "\n",
      "value counts:\n",
      " Overcast             201429\n",
      " Mostly Cloudy        134603\n",
      " Partly Cloudy        117226\n",
      " Clear                 80256\n",
      " Light Rain            50488\n",
      " Rain                  21781\n",
      " Possible Drizzle      17176\n",
      " Foggy                  8292\n",
      " Drizzle                6725\n",
      "Name: short_summary, dtype: int64\n",
      "\n"
     ]
    }
   ],
   "source": [
    "print(f\"value counts:\\n{df['datetime'].value_counts()}\\n\")\n",
    "print(f\"value counts:\\n{df['timezone'].value_counts()}\\n\")\n",
    "print(f\"value counts:\\n{df['source'].value_counts()}\\n\")\n",
    "print(f\"value counts:\\n{df['destination'].value_counts()}\\n\")\n",
    "print(f\"value counts:\\n{df['cab_type'].value_counts()}\\n\")\n",
    "print(f\"value counts:\\n{df['product_id'].value_counts()}\\n\")\n",
    "print(f\"value counts:\\n{df['short_summary'].value_counts()}\\n\")\n",
    "\n",
    "\n"
   ]
  },
  {
   "cell_type": "code",
   "execution_count": 105,
   "metadata": {},
   "outputs": [
    {
     "name": "stdout",
     "output_type": "stream",
     "text": [
      "Index(['timestamp', 'hour', 'day', 'month', 'source', 'destination',\n",
      "       'cab_type', 'product_id', 'name', 'price', 'distance',\n",
      "       'surge_multiplier', 'latitude', 'longitude', 'temperature',\n",
      "       'apparentTemperature', 'short_summary', 'precipIntensity',\n",
      "       'precipProbability', 'humidity', 'windSpeed', 'windGust',\n",
      "       'windGustTime', 'visibility', 'temperatureHigh', 'temperatureHighTime',\n",
      "       'temperatureLow', 'temperatureLowTime', 'apparentTemperatureHigh',\n",
      "       'apparentTemperatureHighTime', 'apparentTemperatureLow',\n",
      "       'apparentTemperatureLowTime', 'dewPoint', 'pressure', 'windBearing',\n",
      "       'cloudCover', 'uvIndex', 'visibility.1', 'ozone', 'sunriseTime',\n",
      "       'sunsetTime', 'moonPhase', 'precipIntensityMax', 'uvIndexTime',\n",
      "       'temperatureMin', 'temperatureMinTime', 'temperatureMax',\n",
      "       'temperatureMaxTime', 'apparentTemperatureMin',\n",
      "       'apparentTemperatureMinTime', 'apparentTemperatureMax',\n",
      "       'apparentTemperatureMaxTime'],\n",
      "      dtype='object')\n"
     ]
    }
   ],
   "source": [
    "del df[\"timezone\"] \n",
    "del df[\"datetime\"]\n",
    "del df[\"long_summary\"]\n",
    "del df[\"id\"]\n",
    "del df[\"icon\"]\n",
    "\n",
    "print(df.columns)"
   ]
  },
  {
   "cell_type": "code",
   "execution_count": 106,
   "metadata": {},
   "outputs": [
    {
     "name": "stdout",
     "output_type": "stream",
     "text": [
      "describe the dataset:\n",
      "          timestamp           hour            day          month  \\\n",
      "count  6.379760e+05  637976.000000  637976.000000  637976.000000   \n",
      "mean   1.544046e+09      11.618528      17.797674      11.586550   \n",
      "std    6.892028e+05       6.948776       9.982083       0.492452   \n",
      "min    1.543204e+09       0.000000       1.000000      11.000000   \n",
      "25%    1.543444e+09       6.000000      13.000000      11.000000   \n",
      "50%    1.543737e+09      12.000000      17.000000      12.000000   \n",
      "75%    1.544828e+09      18.000000      28.000000      12.000000   \n",
      "max    1.545161e+09      23.000000      30.000000      12.000000   \n",
      "\n",
      "               price       distance  surge_multiplier       latitude  \\\n",
      "count  637976.000000  637976.000000     637976.000000  637976.000000   \n",
      "mean       16.545125       2.189261          1.015068      42.338161   \n",
      "std         9.324359       1.135413          0.095422       0.047856   \n",
      "min         2.500000       0.020000          1.000000      42.214800   \n",
      "25%         9.000000       1.270000          1.000000      42.350300   \n",
      "50%        13.500000       2.160000          1.000000      42.351900   \n",
      "75%        22.500000       2.930000          1.000000      42.364700   \n",
      "max        97.500000       7.860000          3.000000      42.366100   \n",
      "\n",
      "           longitude    temperature  ...  precipIntensityMax   uvIndexTime  \\\n",
      "count  637976.000000  637976.000000  ...       637976.000000  6.379760e+05   \n",
      "mean      -71.066144      39.582406  ...            0.037369  1.544044e+09   \n",
      "std         0.020303       6.725500  ...            0.055216  6.912268e+05   \n",
      "min       -71.105400      18.910000  ...            0.000000  1.543162e+09   \n",
      "25%       -71.081000      36.450000  ...            0.000000  1.543421e+09   \n",
      "50%       -71.063100      40.490000  ...            0.000400  1.543770e+09   \n",
      "75%       -71.054200      43.580000  ...            0.091600  1.544807e+09   \n",
      "max       -71.033000      57.220000  ...            0.145900  1.545152e+09   \n",
      "\n",
      "       temperatureMin  temperatureMinTime  temperatureMax  temperatureMaxTime  \\\n",
      "count   637976.000000        6.379760e+05   637976.000000        6.379760e+05   \n",
      "mean        33.456171        1.544042e+09       45.259945        1.544047e+09   \n",
      "std          6.466349        6.902087e+05        5.644414        6.901597e+05   \n",
      "min         15.630000        1.543122e+09       33.510000        1.543154e+09   \n",
      "25%         30.170000        1.543399e+09       42.570000        1.543439e+09   \n",
      "50%         34.240000        1.543727e+09       44.660000        1.543788e+09   \n",
      "75%         38.880000        1.544789e+09       46.910000        1.544814e+09   \n",
      "max         43.100000        1.545192e+09       57.870000        1.545109e+09   \n",
      "\n",
      "       apparentTemperatureMin  apparentTemperatureMinTime  \\\n",
      "count           637976.000000                6.379760e+05   \n",
      "mean                29.729028                1.544048e+09   \n",
      "std                  7.109907                6.872011e+05   \n",
      "min                 11.810000                1.543136e+09   \n",
      "25%                 27.760000                1.543399e+09   \n",
      "50%                 30.130000                1.543745e+09   \n",
      "75%                 35.710000                1.544789e+09   \n",
      "max                 40.050000                1.545134e+09   \n",
      "\n",
      "       apparentTemperatureMax  apparentTemperatureMaxTime  \n",
      "count           637976.000000                6.379760e+05  \n",
      "mean                41.995876                1.544048e+09  \n",
      "std                  6.935538                6.911036e+05  \n",
      "min                 28.950000                1.543187e+09  \n",
      "25%                 36.570000                1.543439e+09  \n",
      "50%                 40.950000                1.543788e+09  \n",
      "75%                 44.120000                1.544818e+09  \n",
      "max                 57.200000                1.545109e+09  \n",
      "\n",
      "[8 rows x 46 columns]\n",
      "\n"
     ]
    }
   ],
   "source": [
    "# Exploratory analysis\n",
    "print(f\"describe the dataset:\\n{df.describe()}\\n\")"
   ]
  },
  {
   "cell_type": "code",
   "execution_count": 107,
   "metadata": {},
   "outputs": [
    {
     "data": {
      "image/png": "[encoded data removed]",
      "text/plain": [
       "<Figure size 576x360 with 1 Axes>"
      ]
     },
     "metadata": {
      "needs_background": "light"
     },
     "output_type": "display_data"
    }
   ],
   "source": [
    "# Exploratory analysis\n",
    "# plot(using a histogram) each column by seperating data into 50 bins\n",
    "df['distance'].hist(bins=70, figsize=(8,5))\n",
    "plt.show()"
   ]
  },
  {
   "cell_type": "code",
   "execution_count": 108,
   "metadata": {},
   "outputs": [
    {
     "name": "stdout",
     "output_type": "stream",
     "text": [
      "timestamp                      float64\n",
      "hour                             int64\n",
      "day                              int64\n",
      "month                            int64\n",
      "source                          object\n",
      "destination                     object\n",
      "cab_type                        object\n",
      "product_id                      object\n",
      "name                            object\n",
      "price                          float64\n",
      "distance                       float64\n",
      "surge_multiplier               float64\n",
      "latitude                       float64\n",
      "longitude                      float64\n",
      "temperature                    float64\n",
      "apparentTemperature            float64\n",
      "short_summary                   object\n",
      "precipIntensity                float64\n",
      "precipProbability              float64\n",
      "humidity                       float64\n",
      "windSpeed                      float64\n",
      "windGust                       float64\n",
      "windGustTime                     int64\n",
      "visibility                     float64\n",
      "temperatureHigh                float64\n",
      "temperatureHighTime              int64\n",
      "temperatureLow                 float64\n",
      "temperatureLowTime               int64\n",
      "apparentTemperatureHigh        float64\n",
      "apparentTemperatureHighTime      int64\n",
      "apparentTemperatureLow         float64\n",
      "apparentTemperatureLowTime       int64\n",
      "dewPoint                       float64\n",
      "pressure                       float64\n",
      "windBearing                      int64\n",
      "cloudCover                     float64\n",
      "uvIndex                          int64\n",
      "visibility.1                   float64\n",
      "ozone                          float64\n",
      "sunriseTime                      int64\n",
      "sunsetTime                       int64\n",
      "moonPhase                      float64\n",
      "precipIntensityMax             float64\n",
      "uvIndexTime                      int64\n",
      "temperatureMin                 float64\n",
      "temperatureMinTime               int64\n",
      "temperatureMax                 float64\n",
      "temperatureMaxTime               int64\n",
      "apparentTemperatureMin         float64\n",
      "apparentTemperatureMinTime       int64\n",
      "apparentTemperatureMax         float64\n",
      "apparentTemperatureMaxTime       int64\n",
      "dtype: object\n"
     ]
    }
   ],
   "source": [
    "print(df.dtypes)"
   ]
  },
  {
   "cell_type": "code",
   "execution_count": 109,
   "metadata": {},
   "outputs": [],
   "source": [
    "# one way to preparing your train and test data\n",
    "# NOTE: a random train/test split could introduce sample bias\n",
    "df_train, df_test = train_test_split(df, test_size=0.2, random_state=42)"
   ]
  },
  {
   "cell_type": "code",
   "execution_count": 110,
   "metadata": {},
   "outputs": [
    {
     "name": "stdout",
     "output_type": "stream",
     "text": [
      "          timestamp           hour            day          month  \\\n",
      "count  6.379760e+05  637976.000000  637976.000000  637976.000000   \n",
      "mean   1.544046e+09      11.618528      17.797674      11.586550   \n",
      "std    6.892028e+05       6.948776       9.982083       0.492452   \n",
      "min    1.543204e+09       0.000000       1.000000      11.000000   \n",
      "25%    1.543444e+09       6.000000      13.000000      11.000000   \n",
      "50%    1.543737e+09      12.000000      17.000000      12.000000   \n",
      "75%    1.544828e+09      18.000000      28.000000      12.000000   \n",
      "max    1.545161e+09      23.000000      30.000000      12.000000   \n",
      "\n",
      "               price       distance  surge_multiplier       latitude  \\\n",
      "count  637976.000000  637976.000000     637976.000000  637976.000000   \n",
      "mean       16.545125       2.189261          1.015068      42.338161   \n",
      "std         9.324359       1.135413          0.095422       0.047856   \n",
      "min         2.500000       0.020000          1.000000      42.214800   \n",
      "25%         9.000000       1.270000          1.000000      42.350300   \n",
      "50%        13.500000       2.160000          1.000000      42.351900   \n",
      "75%        22.500000       2.930000          1.000000      42.364700   \n",
      "max        97.500000       7.860000          3.000000      42.366100   \n",
      "\n",
      "           longitude    temperature  ...  precipIntensityMax   uvIndexTime  \\\n",
      "count  637976.000000  637976.000000  ...       637976.000000  6.379760e+05   \n",
      "mean      -71.066144      39.582406  ...            0.037369  1.544044e+09   \n",
      "std         0.020303       6.725500  ...            0.055216  6.912268e+05   \n",
      "min       -71.105400      18.910000  ...            0.000000  1.543162e+09   \n",
      "25%       -71.081000      36.450000  ...            0.000000  1.543421e+09   \n",
      "50%       -71.063100      40.490000  ...            0.000400  1.543770e+09   \n",
      "75%       -71.054200      43.580000  ...            0.091600  1.544807e+09   \n",
      "max       -71.033000      57.220000  ...            0.145900  1.545152e+09   \n",
      "\n",
      "       temperatureMin  temperatureMinTime  temperatureMax  temperatureMaxTime  \\\n",
      "count   637976.000000        6.379760e+05   637976.000000        6.379760e+05   \n",
      "mean        33.456171        1.544042e+09       45.259945        1.544047e+09   \n",
      "std          6.466349        6.902087e+05        5.644414        6.901597e+05   \n",
      "min         15.630000        1.543122e+09       33.510000        1.543154e+09   \n",
      "25%         30.170000        1.543399e+09       42.570000        1.543439e+09   \n",
      "50%         34.240000        1.543727e+09       44.660000        1.543788e+09   \n",
      "75%         38.880000        1.544789e+09       46.910000        1.544814e+09   \n",
      "max         43.100000        1.545192e+09       57.870000        1.545109e+09   \n",
      "\n",
      "       apparentTemperatureMin  apparentTemperatureMinTime  \\\n",
      "count           637976.000000                6.379760e+05   \n",
      "mean                29.729028                1.544048e+09   \n",
      "std                  7.109907                6.872011e+05   \n",
      "min                 11.810000                1.543136e+09   \n",
      "25%                 27.760000                1.543399e+09   \n",
      "50%                 30.130000                1.543745e+09   \n",
      "75%                 35.710000                1.544789e+09   \n",
      "max                 40.050000                1.545134e+09   \n",
      "\n",
      "       apparentTemperatureMax  apparentTemperatureMaxTime  \n",
      "count           637976.000000                6.379760e+05  \n",
      "mean                41.995876                1.544048e+09  \n",
      "std                  6.935538                6.911036e+05  \n",
      "min                 28.950000                1.543187e+09  \n",
      "25%                 36.570000                1.543439e+09  \n",
      "50%                 40.950000                1.543788e+09  \n",
      "75%                 44.120000                1.544818e+09  \n",
      "max                 57.200000                1.545109e+09  \n",
      "\n",
      "[8 rows x 46 columns]\n",
      "************\n",
      "          timestamp           hour            day          month  \\\n",
      "count  5.103800e+05  510380.000000  510380.000000  510380.000000   \n",
      "mean   1.544046e+09      11.612530      17.801871      11.586490   \n",
      "std    6.893696e+05       6.946365       9.980501       0.492463   \n",
      "min    1.543204e+09       0.000000       1.000000      11.000000   \n",
      "25%    1.543444e+09       6.000000      13.000000      11.000000   \n",
      "50%    1.543737e+09      12.000000      17.000000      12.000000   \n",
      "75%    1.544828e+09      18.000000      28.000000      12.000000   \n",
      "max    1.545161e+09      23.000000      30.000000      12.000000   \n",
      "\n",
      "               price       distance  surge_multiplier       latitude  \\\n",
      "count  510380.000000  510380.000000     510380.000000  510380.000000   \n",
      "mean       16.545838       2.188397          1.015041      42.338139   \n",
      "std         9.321184       1.135427          0.095263       0.047870   \n",
      "min         2.500000       0.020000          1.000000      42.214800   \n",
      "25%         9.000000       1.270000          1.000000      42.350300   \n",
      "50%        13.500000       2.160000          1.000000      42.351900   \n",
      "75%        22.500000       2.930000          1.000000      42.364700   \n",
      "max        97.500000       7.860000          3.000000      42.366100   \n",
      "\n",
      "           longitude    temperature  ...  precipIntensityMax   uvIndexTime  \\\n",
      "count  510380.000000  510380.000000  ...       510380.000000  5.103800e+05   \n",
      "mean      -71.066148      39.579981  ...            0.037387  1.544044e+09   \n",
      "std         0.020311       6.726448  ...            0.055217  6.913888e+05   \n",
      "min       -71.105400      18.910000  ...            0.000000  1.543162e+09   \n",
      "25%       -71.081000      36.500000  ...            0.000000  1.543421e+09   \n",
      "50%       -71.063100      40.490000  ...            0.000400  1.543770e+09   \n",
      "75%       -71.054200      43.580000  ...            0.091600  1.544807e+09   \n",
      "max       -71.033000      57.220000  ...            0.145900  1.545152e+09   \n",
      "\n",
      "       temperatureMin  temperatureMinTime  temperatureMax  temperatureMaxTime  \\\n",
      "count   510380.000000        5.103800e+05   510380.000000        5.103800e+05   \n",
      "mean        33.457042        1.544042e+09       45.257301        1.544047e+09   \n",
      "std          6.464069        6.903741e+05        5.645092        6.903107e+05   \n",
      "min         15.630000        1.543122e+09       33.510000        1.543154e+09   \n",
      "25%         30.170000        1.543399e+09       42.570000        1.543439e+09   \n",
      "50%         34.240000        1.543727e+09       44.660000        1.543788e+09   \n",
      "75%         38.880000        1.544789e+09       46.910000        1.544814e+09   \n",
      "max         43.100000        1.545192e+09       57.870000        1.545109e+09   \n",
      "\n",
      "       apparentTemperatureMin  apparentTemperatureMinTime  \\\n",
      "count           510380.000000                5.103800e+05   \n",
      "mean                29.727230                1.544048e+09   \n",
      "std                  7.110432                6.873781e+05   \n",
      "min                 11.810000                1.543136e+09   \n",
      "25%                 27.760000                1.543399e+09   \n",
      "50%                 30.130000                1.543745e+09   \n",
      "75%                 35.710000                1.544789e+09   \n",
      "max                 40.050000                1.545134e+09   \n",
      "\n",
      "       apparentTemperatureMax  apparentTemperatureMaxTime  \n",
      "count           510380.000000                5.103800e+05  \n",
      "mean                41.991380                1.544048e+09  \n",
      "std                  6.937035                6.912597e+05  \n",
      "min                 28.950000                1.543187e+09  \n",
      "25%                 36.570000                1.543439e+09  \n",
      "50%                 40.950000                1.543788e+09  \n",
      "75%                 44.120000                1.544818e+09  \n",
      "max                 57.200000                1.545109e+09  \n",
      "\n",
      "[8 rows x 46 columns]\n",
      "      timestamp  hour  day  month            source    destination cab_type  \\\n",
      "0  1.544953e+09     9   16     12  Haymarket Square  North Station     Lyft   \n",
      "1  1.543284e+09     2   27     11  Haymarket Square  North Station     Lyft   \n",
      "2  1.543367e+09     1   28     11  Haymarket Square  North Station     Lyft   \n",
      "3  1.543554e+09     4   30     11  Haymarket Square  North Station     Lyft   \n",
      "4  1.543463e+09     3   29     11  Haymarket Square  North Station     Lyft   \n",
      "\n",
      "     product_id          name  price  ...  precipIntensityMax  uvIndexTime  \\\n",
      "0     lyft_line        Shared    5.0  ...              0.1276   1544979600   \n",
      "1  lyft_premier           Lux   11.0  ...              0.1300   1543251600   \n",
      "2          lyft          Lyft    7.0  ...              0.1064   1543338000   \n",
      "3   lyft_luxsuv  Lux Black XL   26.0  ...              0.0000   1543507200   \n",
      "4     lyft_plus       Lyft XL    9.0  ...              0.0001   1543420800   \n",
      "\n",
      "   temperatureMin  temperatureMinTime  temperatureMax  temperatureMaxTime  \\\n",
      "0           39.89          1545012000           43.68          1544968800   \n",
      "1           40.49          1543233600           47.30          1543251600   \n",
      "2           35.36          1543377600           47.55          1543320000   \n",
      "3           34.67          1543550400           45.03          1543510800   \n",
      "4           33.10          1543402800           42.18          1543420800   \n",
      "\n",
      "  apparentTemperatureMin  apparentTemperatureMinTime  apparentTemperatureMax  \\\n",
      "0                  33.73                  1545012000                   38.07   \n",
      "1                  36.20                  1543291200                   43.92   \n",
      "2                  31.04                  1543377600                   44.12   \n",
      "3                  30.30                  1543550400                   38.53   \n",
      "4                  29.11                  1543392000                   35.75   \n",
      "\n",
      "   apparentTemperatureMaxTime  \n",
      "0                  1544958000  \n",
      "1                  1543251600  \n",
      "2                  1543320000  \n",
      "3                  1543510800  \n",
      "4                  1543420800  \n",
      "\n",
      "[5 rows x 52 columns]\n"
     ]
    }
   ],
   "source": [
    "# the sampling bias is not that evident in this dataset\n",
    "print(df.describe())\n",
    "print(\"************\")\n",
    "print(df_train.describe())\n",
    "print(df.head())"
   ]
  },
  {
   "cell_type": "code",
   "execution_count": 111,
   "metadata": {},
   "outputs": [
    {
     "data": {
      "text/plain": [
       "<AxesSubplot:>"
      ]
     },
     "execution_count": 111,
     "metadata": {},
     "output_type": "execute_result"
    },
    {
     "data": {
      "image/png": "[encoded data removed]",
      "text/plain": [
       "<Figure size 432x288 with 1 Axes>"
      ]
     },
     "metadata": {
      "needs_background": "light"
     },
     "output_type": "display_data"
    }
   ],
   "source": [
    "df[\"timestamp\"].hist()"
   ]
  },
  {
   "cell_type": "code",
   "execution_count": 112,
   "metadata": {},
   "outputs": [
    {
     "name": "stdout",
     "output_type": "stream",
     "text": [
      "price                          1.000000\n",
      "distance                       0.345061\n",
      "surge_multiplier               0.240458\n",
      "latitude                       0.002088\n",
      "visibility.1                   0.001497\n",
      "visibility                     0.001497\n",
      "windGust                       0.001218\n",
      "precipIntensityMax             0.001114\n",
      "windSpeed                      0.000990\n",
      "month                          0.000913\n",
      "cloudCover                     0.000883\n",
      "pressure                       0.000866\n",
      "windGustTime                   0.000851\n",
      "apparentTemperatureLow         0.000831\n",
      "apparentTemperatureMinTime     0.000814\n",
      "timestamp                      0.000808\n",
      "temperatureMinTime             0.000769\n",
      "temperatureMaxTime             0.000766\n",
      "uvIndexTime                    0.000763\n",
      "apparentTemperatureLowTime     0.000761\n",
      "sunsetTime                     0.000760\n",
      "sunriseTime                    0.000760\n",
      "temperatureHighTime            0.000759\n",
      "temperatureLowTime             0.000754\n",
      "apparentTemperatureMaxTime     0.000746\n",
      "apparentTemperatureHighTime    0.000741\n",
      "hour                           0.000561\n",
      "ozone                          0.000460\n",
      "temperatureLow                 0.000182\n",
      "precipIntensity                0.000166\n",
      "temperature                   -0.000084\n",
      "apparentTemperature           -0.000193\n",
      "precipProbability             -0.000243\n",
      "apparentTemperatureHigh       -0.000261\n",
      "apparentTemperatureMax        -0.000290\n",
      "uvIndex                       -0.000424\n",
      "temperatureMin                -0.000428\n",
      "temperatureHigh               -0.000516\n",
      "temperatureMax                -0.000550\n",
      "apparentTemperatureMin        -0.000580\n",
      "dewPoint                      -0.000615\n",
      "day                           -0.000722\n",
      "humidity                      -0.001238\n",
      "windBearing                   -0.001382\n",
      "longitude                     -0.001417\n",
      "moonPhase                     -0.001602\n",
      "Name: price, dtype: float64\n"
     ]
    }
   ],
   "source": [
    "# identifying the correlation between features\n",
    "# NOTE: if certain features are highly correlated, you can drop one of the correlated features to reduce the dimensionality of the feature space\n",
    "corr_matrix = df.corr()\n",
    "# print(corr_matrix)\n",
    "print(corr_matrix['price'].sort_values(ascending=False))"
   ]
  },
  {
   "cell_type": "markdown",
   "metadata": {},
   "source": [
    "#### Model Development"
   ]
  },
  {
   "cell_type": "code",
   "execution_count": 113,
   "metadata": {},
   "outputs": [],
   "source": [
    "# model development\n",
    "# prepare the data\n",
    "# drop label column(axis=1) from the training dataset\n",
    "# remember that dataframes are mutable(i.e., reason for using .copy())\n",
    "data = df_train.drop(\"price\", axis=1) \n",
    "labels = df_train[\"price\"].copy()"
   ]
  },
  {
   "cell_type": "code",
   "execution_count": 114,
   "metadata": {},
   "outputs": [
    {
     "name": "stdout",
     "output_type": "stream",
     "text": [
      "Empty DataFrame\n",
      "Columns: [timestamp, hour, day, month, source, destination, cab_type, product_id, name, distance, surge_multiplier, latitude, longitude, temperature, apparentTemperature, short_summary, precipIntensity, precipProbability, humidity, windSpeed, windGust, windGustTime, visibility, temperatureHigh, temperatureHighTime, temperatureLow, temperatureLowTime, apparentTemperatureHigh, apparentTemperatureHighTime, apparentTemperatureLow, apparentTemperatureLowTime, dewPoint, pressure, windBearing, cloudCover, uvIndex, visibility.1, ozone, sunriseTime, sunsetTime, moonPhase, precipIntensityMax, uvIndexTime, temperatureMin, temperatureMinTime, temperatureMax, temperatureMaxTime, apparentTemperatureMin, apparentTemperatureMinTime, apparentTemperatureMax, apparentTemperatureMaxTime]\n",
      "Index: []\n",
      "\n",
      "[0 rows x 51 columns]\n",
      "(0, 51)\n"
     ]
    }
   ],
   "source": [
    "# check to see if there are any missing data\n",
    "sample_incomplete_rows = data[data.isnull().any(axis=1)].head()\n",
    "print(sample_incomplete_rows)\n",
    "print(sample_incomplete_rows.shape)"
   ]
  },
  {
   "cell_type": "markdown",
   "metadata": {},
   "source": [
    "No incomplete rows in the data"
   ]
  },
  {
   "cell_type": "code",
   "execution_count": 115,
   "metadata": {},
   "outputs": [
    {
     "name": "stdout",
     "output_type": "stream",
     "text": [
      "value counts:\n",
      "Financial District         54197\n",
      "Back Bay                   53201\n",
      "Theatre District           53201\n",
      "Boston University          53172\n",
      "North End                  53171\n",
      "Fenway                     53166\n",
      "Northeastern University    53164\n",
      "South Station              53160\n",
      "Haymarket Square           53147\n",
      "West End                   52980\n",
      "Beacon Hill                52841\n",
      "North Station              52576\n",
      "Name: source, dtype: int64\n",
      "\n",
      "value counts:\n",
      "Financial District         54192\n",
      "Back Bay                   53190\n",
      "Theatre District           53189\n",
      "Haymarket Square           53171\n",
      "Boston University          53171\n",
      "Fenway                     53166\n",
      "Northeastern University    53165\n",
      "North End                  53164\n",
      "South Station              53159\n",
      "West End                   52992\n",
      "Beacon Hill                52840\n",
      "North Station              52577\n",
      "Name: destination, dtype: int64\n",
      "\n",
      "value counts:\n",
      "Uber    330568\n",
      "Lyft    307408\n",
      "Name: cab_type, dtype: int64\n",
      "\n",
      "value counts:\n",
      "6f72dfc5-27f1-42e8-84db-ccc7a75f6969    55096\n",
      "9a0e7b09-b92b-4c41-9779-2ad22b4d779d    55096\n",
      "6d318bcc-22a3-4af6-bddd-b409bfce1546    55096\n",
      "6c84fd89-3f11-4782-9b50-97c468b19529    55095\n",
      "55c66225-fbe7-4fd5-9072-eab1ece5e23e    55094\n",
      "997acbb5-e102-41e1-b155-9df7de0a73f2    55091\n",
      "lyft_premier                            51235\n",
      "lyft                                    51235\n",
      "lyft_luxsuv                             51235\n",
      "lyft_plus                               51235\n",
      "lyft_lux                                51235\n",
      "lyft_line                               51233\n",
      "Name: product_id, dtype: int64\n",
      "\n",
      "value counts:\n",
      " Overcast             201429\n",
      " Mostly Cloudy        134603\n",
      " Partly Cloudy        117226\n",
      " Clear                 80256\n",
      " Light Rain            50488\n",
      " Rain                  21781\n",
      " Possible Drizzle      17176\n",
      " Foggy                  8292\n",
      " Drizzle                6725\n",
      "Name: short_summary, dtype: int64\n",
      "\n",
      "Index(['timestamp', 'hour', 'day', 'month', 'distance', 'surge_multiplier',\n",
      "       'latitude', 'longitude', 'temperature', 'apparentTemperature',\n",
      "       'precipIntensity', 'precipProbability', 'humidity', 'windSpeed',\n",
      "       'windGust', 'windGustTime', 'visibility', 'temperatureHigh',\n",
      "       'temperatureHighTime', 'temperatureLow', 'temperatureLowTime',\n",
      "       'apparentTemperatureHigh', 'apparentTemperatureHighTime',\n",
      "       'apparentTemperatureLow', 'apparentTemperatureLowTime', 'dewPoint',\n",
      "       'pressure', 'windBearing', 'cloudCover', 'uvIndex', 'visibility.1',\n",
      "       'ozone', 'sunriseTime', 'sunsetTime', 'moonPhase', 'precipIntensityMax',\n",
      "       'uvIndexTime', 'temperatureMin', 'temperatureMinTime', 'temperatureMax',\n",
      "       'temperatureMaxTime', 'apparentTemperatureMin',\n",
      "       'apparentTemperatureMinTime', 'apparentTemperatureMax',\n",
      "       'apparentTemperatureMaxTime'],\n",
      "      dtype='object')\n"
     ]
    }
   ],
   "source": [
    "print(f\"value counts:\\n{df['source'].value_counts()}\\n\")\n",
    "print(f\"value counts:\\n{df['destination'].value_counts()}\\n\")\n",
    "print(f\"value counts:\\n{df['cab_type'].value_counts()}\\n\")\n",
    "print(f\"value counts:\\n{df['product_id'].value_counts()}\\n\")\n",
    "print(f\"value counts:\\n{df['short_summary'].value_counts()}\\n\")\n",
    "\n",
    "# because the median is calculated on numerical data, we need to drop categorical features from the dataframe\n",
    "rideshare_num = data.drop(['source','destination','cab_type','product_id','short_summary', \"name\"], axis=1)\n",
    "print(rideshare_num.columns)"
   ]
  },
  {
   "cell_type": "code",
   "execution_count": 116,
   "metadata": {},
   "outputs": [
    {
     "name": "stdout",
     "output_type": "stream",
     "text": [
      "[[-0.43902292 -0.37610063 -1.58327596 ...  1.          0.\n",
      "   0.        ]\n",
      " [ 1.12694399  1.35142318 -0.38093028 ...  0.          0.\n",
      "   0.        ]\n",
      " [ 0.51316528  1.63934382 -0.88190765 ...  0.          0.\n",
      "   0.        ]\n",
      " ...\n",
      " [-0.85113169 -1.38382285  1.12200182 ...  1.          0.\n",
      "   0.        ]\n",
      " [ 0.97941487  0.77558191 -0.48112575 ...  0.          0.\n",
      "   0.        ]\n",
      " [ 0.91543462 -1.09590222 -0.48112575 ...  0.          0.\n",
      "   0.        ]]\n"
     ]
    }
   ],
   "source": [
    "# creating a pipeline so that you can chain together multiple steps\n",
    "# NOTE: remember that the output from one step will be an inout to the other\n",
    "# you can do these steps seperately and combine but Pipelines are more efficient\n",
    "num_pipeline = Pipeline([\n",
    "        ('std_scaler', StandardScaler()),\n",
    "    ])\n",
    "\n",
    "num_attribs = list(rideshare_num)\n",
    "cat_attribs = ['source','destination','cab_type','product_id','short_summary', \"name\"]\n",
    "\n",
    "# will be applying tranasformer object to the given subset of data\n",
    "# NOTE: e.g., the \"num_pipeline\" transformer object will be applied on the given set of columns\n",
    "full_pipeline = ColumnTransformer([\n",
    "        (\"num\", num_pipeline, num_attribs),\n",
    "        (\"cat\", OneHotEncoder(), cat_attribs),\n",
    "    ])\n",
    "\n",
    " # sending the data through a chain of transformations\n",
    " # NOTE: the final dataset is a 2D numpy array containg all numerical data\n",
    "rideshare_prepared = full_pipeline.fit_transform(data)\n",
    "print(rideshare_prepared)"
   ]
  },
  {
   "cell_type": "code",
   "execution_count": 117,
   "metadata": {},
   "outputs": [
    {
     "name": "stdout",
     "output_type": "stream",
     "text": [
      "2.7.0\n",
      "[[ 5.4438942e-10 -7.3725914e-10 -3.6137635e-09 -3.6979031e-08\n",
      "  -1.6950139e-09 -2.0874722e-08 -9.7807060e-09 -2.5211691e-09\n",
      "   4.2928150e-10 -4.8348738e-09 -9.0640242e-09 -8.8439265e-09\n",
      "  -4.4554582e-10 -3.3192009e-09  7.6852302e-11  9.1608854e-09\n",
      "  -3.4115146e-09  5.7752914e-10 -1.2575981e-08 -4.0243151e-09\n",
      "   1.8712285e-09 -4.1218300e-09  5.0681024e-09  7.7687901e-10\n",
      "  -7.0743340e-09  1.9931576e-09 -2.5058711e-09 -2.2565700e-09\n",
      "  -7.0779151e-09  1.8987521e-08 -3.4115146e-09  2.7530405e-09\n",
      "  -1.0365909e-08 -3.2516141e-09 -1.6259719e-08  3.0649971e-09\n",
      "   5.4574230e-09 -2.1218511e-09  7.2682269e-09  4.6038622e-09\n",
      "  -1.8714900e-08  1.4597390e-09 -7.1887598e-09 -6.1190804e-09\n",
      "   3.1970444e-09  8.3306834e-02  8.2820825e-02  8.3298974e-02\n",
      "   8.3151624e-02  8.4993109e-02  8.2891352e-02  8.3355397e-02\n",
      "   8.2510740e-02  8.3269037e-02  8.3649650e-02  8.3827958e-02\n",
      "   8.2924537e-02  8.2801133e-02  8.2573950e-02  8.3506547e-02\n",
      "   8.3212785e-02  8.5022874e-02  8.3286986e-02  8.3512418e-02\n",
      "   8.2489692e-02  8.3157793e-02  8.3707608e-02  8.3555587e-02\n",
      "   8.3173081e-02  4.8212659e-01  5.1787078e-01  8.6184844e-02\n",
      "   8.6359374e-02  8.6464949e-02  8.6273283e-02  8.6476810e-02\n",
      "   8.6112469e-02  8.0608368e-02  8.0202855e-02  8.0051824e-02\n",
      "   8.0434345e-02  8.0393128e-02  8.0438271e-02  1.2562773e-01\n",
      "   1.0494157e-02  1.3011949e-02  7.9095177e-02  2.1078932e-01\n",
      "   3.1615770e-01  1.8394481e-01  2.6925107e-02  3.3955000e-02\n",
      "   8.6359374e-02  8.6464949e-02  8.0438271e-02  8.0051824e-02\n",
      "   8.0434345e-02  8.0608368e-02  8.0393128e-02  8.0202855e-02\n",
      "   8.6476810e-02  8.6184844e-02  8.6273283e-02  8.6112469e-02]]\n",
      "First example: [[-0.44 -0.38 -1.58  0.84  0.03 -0.16  0.58  0.15 -0.15  0.03  0.82  2.6\n",
      "   1.36 -0.85 -0.85 -0.42 -1.56  0.98 -0.38  1.68 -0.41  1.13 -0.38  1.91\n",
      "  -0.41  0.56  0.69 -0.97  0.87 -0.53 -1.56 -1.51 -0.4  -0.4   1.15  0.94\n",
      "  -0.4   0.46 -0.46  1.01 -0.38  0.85 -0.44  1.19 -0.38  0.    0.    0.\n",
      "   0.    0.    0.    0.    0.    0.    1.    0.    0.    1.    0.    0.\n",
      "   0.    0.    0.    0.    0.    0.    0.    0.    0.    0.    1.    1.\n",
      "   0.    0.    0.    0.    0.    0.    0.    0.    0.    0.    0.    0.\n",
      "   0.    0.    1.    0.    0.    0.    0.    0.    0.    0.    0.    0.\n",
      "   0.    0.    0.    0.    0.    1.    0.    0.  ]]\n",
      "\n",
      "Normalized: [[-0.44 -0.38 -1.58  0.84  0.03 -0.16  0.58  0.15 -0.15  0.03  0.82  2.6\n",
      "   1.36 -0.85 -0.85 -0.42 -1.56  0.98 -0.38  1.68 -0.41  1.13 -0.38  1.91\n",
      "  -0.41  0.56  0.69 -0.97  0.87 -0.53 -1.56 -1.51 -0.4  -0.4   1.15  0.94\n",
      "  -0.4   0.46 -0.46  1.01 -0.38  0.85 -0.44  1.19 -0.38 -0.3  -0.3  -0.3\n",
      "  -0.3  -0.3  -0.3  -0.3  -0.3  -0.3   3.31 -0.3  -0.3   3.33 -0.3  -0.3\n",
      "  -0.3  -0.3  -0.3  -0.3  -0.3  -0.3  -0.3  -0.3  -0.3  -0.96  0.96  3.26\n",
      "  -0.31 -0.31 -0.31 -0.31 -0.31 -0.3  -0.3  -0.29 -0.3  -0.3  -0.3  -0.38\n",
      "  -0.1  -0.11  3.41 -0.52 -0.68 -0.47 -0.17 -0.19 -0.31 -0.31 -0.3  -0.29\n",
      "  -0.3  -0.3  -0.3  -0.3  -0.31  3.26 -0.31 -0.31]]\n"
     ]
    }
   ],
   "source": [
    "print(tf.__version__)\n",
    "x = np.asarray(rideshare_prepared).astype('float32')\n",
    "normalizer = tf.keras.layers.experimental.preprocessing.Normalization(axis=-1)\n",
    "normalizer.adapt(np.array(x))\n",
    "print(normalizer.mean.numpy())\n",
    "\n",
    "first = np.array(x[:1])\n",
    "\n",
    "with np.printoptions(precision=2, suppress=True):\n",
    "  print('First example:', first)\n",
    "  print()\n",
    "  print('Normalized:', normalizer(first).numpy())"
   ]
  },
  {
   "cell_type": "code",
   "execution_count": 118,
   "metadata": {},
   "outputs": [],
   "source": [
    "linear_model = tf.keras.Sequential([\n",
    "    normalizer,\n",
    "    layers.Dense(64, activation='relu'),\n",
    "    layers.Dense(128, activation='relu'),\n",
    "    layers.Dense(128, activation='relu'),\n",
    "    layers.Dense(64, activation='relu'),\n",
    "\n",
    "    layers.Dense(units=1)\n",
    "    \n",
    "])"
   ]
  },
  {
   "cell_type": "code",
   "execution_count": 119,
   "metadata": {},
   "outputs": [
    {
     "data": {
      "text/plain": [
       "array([[ 0.5908613 ],\n",
       "       [-0.29746997],\n",
       "       [-0.07566263],\n",
       "       [ 0.4362913 ],\n",
       "       [ 0.2667923 ],\n",
       "       [ 0.04970501],\n",
       "       [-0.36665672],\n",
       "       [ 0.06517738],\n",
       "       [ 0.32161483],\n",
       "       [ 0.12178577]], dtype=float32)"
      ]
     },
     "execution_count": 119,
     "metadata": {},
     "output_type": "execute_result"
    }
   ],
   "source": [
    "linear_model.predict(x[:10])\n"
   ]
  },
  {
   "cell_type": "code",
   "execution_count": 120,
   "metadata": {},
   "outputs": [
    {
     "data": {
      "text/plain": [
       "<tf.Variable 'dense_12/kernel:0' shape=(104, 64) dtype=float32, numpy=\n",
       "array([[ 0.06219862, -0.02229734, -0.05560519, ..., -0.06987213,\n",
       "         0.0403323 ,  0.09443812],\n",
       "       [ 0.00060682, -0.11988215, -0.13916722, ..., -0.09493858,\n",
       "         0.03448477, -0.00091077],\n",
       "       [ 0.15035246, -0.14296894, -0.13781655, ..., -0.0302902 ,\n",
       "         0.11561422, -0.07269589],\n",
       "       ...,\n",
       "       [ 0.03298622,  0.1449459 ,  0.1477515 , ...,  0.03713349,\n",
       "        -0.16895963,  0.0552455 ],\n",
       "       [-0.10467658, -0.08871347, -0.03484789, ...,  0.02633677,\n",
       "         0.04322532,  0.0186868 ],\n",
       "       [-0.17878027,  0.1730885 ,  0.02024996, ..., -0.0806632 ,\n",
       "        -0.06625862,  0.05905059]], dtype=float32)>"
      ]
     },
     "execution_count": 120,
     "metadata": {},
     "output_type": "execute_result"
    }
   ],
   "source": [
    "linear_model.layers[1].kernel"
   ]
  },
  {
   "cell_type": "code",
   "execution_count": 121,
   "metadata": {},
   "outputs": [],
   "source": [
    "linear_model.compile(\n",
    "    optimizer= tf.keras.optimizers.Adam(learning_rate=0.001, beta_1=0.85,\n",
    "    beta_2=0.9985,\n",
    "    epsilon=1e-07,\n",
    "    amsgrad=False,\n",
    "    clipvalue = 0.5),\n",
    "    loss=[\"mse\", \"mse\"], loss_weights=[0.8,0.4,0.2, 0.1])"
   ]
  },
  {
   "cell_type": "code",
   "execution_count": 122,
   "metadata": {},
   "outputs": [
    {
     "name": "stdout",
     "output_type": "stream",
     "text": [
      "141913     9.0\n",
      "207434    32.5\n",
      "524847    28.5\n",
      "629294    11.0\n",
      "5225      10.5\n",
      "          ... \n",
      "119762    38.5\n",
      "281444    27.5\n",
      "397249     8.5\n",
      "143309     3.0\n",
      "132473    22.5\n",
      "Name: price, Length: 510380, dtype: float64\n"
     ]
    }
   ],
   "source": [
    "print(labels)"
   ]
  },
  {
   "cell_type": "code",
   "execution_count": 123,
   "metadata": {},
   "outputs": [
    {
     "name": "stdout",
     "output_type": "stream",
     "text": [
      "Epoch 1/7\n",
      "12760/12760 - 8s - loss: 3.4312 - val_loss: 2.7266 - 8s/epoch - 623us/step\n",
      "Epoch 2/7\n",
      "12760/12760 - 8s - loss: 2.6528 - val_loss: 2.8666 - 8s/epoch - 611us/step\n",
      "Epoch 3/7\n",
      "12760/12760 - 8s - loss: 2.5974 - val_loss: 2.7088 - 8s/epoch - 608us/step\n",
      "Epoch 4/7\n",
      "12760/12760 - 8s - loss: 2.6148 - val_loss: 2.8870 - 8s/epoch - 611us/step\n",
      "Epoch 5/7\n",
      "12760/12760 - 8s - loss: 2.6219 - val_loss: 2.6827 - 8s/epoch - 614us/step\n",
      "Epoch 6/7\n",
      "12760/12760 - 9s - loss: 2.5525 - val_loss: 2.5852 - 9s/epoch - 690us/step\n",
      "Epoch 7/7\n",
      "12760/12760 - 8s - loss: 2.5363 - val_loss: 2.5985 - 8s/epoch - 624us/step\n",
      "CPU times: user 1min 9s, sys: 10.7 s, total: 1min 19s\n",
      "Wall time: 55.9 s\n"
     ]
    }
   ],
   "source": [
    "%%time\n",
    "history = linear_model.fit(\n",
    "    x,\n",
    "    labels,\n",
    "    epochs=7,\n",
    "    # Suppress logging.\n",
    "    verbose=2,\n",
    "    # Calculate validation results on 20% of the training data.\n",
    "    validation_split = 0.2)"
   ]
  },
  {
   "cell_type": "code",
   "execution_count": 124,
   "metadata": {},
   "outputs": [
    {
     "data": {
      "image/png": "[encoded data removed]",
      "text/plain": [
       "<Figure size 432x288 with 1 Axes>"
      ]
     },
     "metadata": {
      "needs_background": "light"
     },
     "output_type": "display_data"
    }
   ],
   "source": [
    "def plot_loss(history):\n",
    "  plt.plot(history.history['loss'], label='loss')\n",
    "  plt.plot(history.history['val_loss'], label='val_loss')\n",
    "  plt.ylim([0, 10])\n",
    "  plt.xlabel('Epoch')\n",
    "  plt.ylabel('Error [PRICE]')\n",
    "  plt.legend()\n",
    "  plt.grid(True)\n",
    "\n",
    "plot_loss(history)\n"
   ]
  },
  {
   "cell_type": "code",
   "execution_count": 125,
   "metadata": {},
   "outputs": [
    {
     "data": {
      "text/plain": [
       "2.4962024688720703"
      ]
     },
     "execution_count": 125,
     "metadata": {},
     "output_type": "execute_result"
    }
   ],
   "source": [
    "linear_model.evaluate(\n",
    "    x, labels, verbose=0)"
   ]
  },
  {
   "cell_type": "code",
   "execution_count": 126,
   "metadata": {},
   "outputs": [],
   "source": [
    "# model development\n",
    "# prepare the data\n",
    "# drop label column(axis=1) from the training dataset\n",
    "# remember that dataframes are mutable(i.e., reason for using .copy())\n",
    "test_data = df_test.drop(\"price\", axis=1) \n",
    "test_labels = df_test[\"price\"].copy()"
   ]
  },
  {
   "cell_type": "code",
   "execution_count": 127,
   "metadata": {},
   "outputs": [],
   "source": [
    "rideshare_prepared_test = full_pipeline.fit_transform(test_data)\n",
    "x = np.asarray(rideshare_prepared_test).astype('float32')\n"
   ]
  },
  {
   "cell_type": "code",
   "execution_count": 128,
   "metadata": {},
   "outputs": [
    {
     "data": {
      "image/png": "[encoded data removed]",
      "text/plain": [
       "<Figure size 432x288 with 1 Axes>"
      ]
     },
     "metadata": {
      "needs_background": "light"
     },
     "output_type": "display_data"
    }
   ],
   "source": [
    "\n",
    "test_predictions = linear_model.predict(x).flatten()\n",
    "\n",
    "a = plt.axes(aspect='equal')\n",
    "plt.scatter(test_labels, test_predictions)\n",
    "plt.xlabel('True Values [Price]')\n",
    "plt.ylabel('Predictions [Price]')\n",
    "lims = [0, 60]\n",
    "plt.xlim(lims)\n",
    "plt.ylim(lims)\n",
    "_ = plt.plot(lims, lims)"
   ]
  },
  {
   "cell_type": "code",
   "execution_count": 129,
   "metadata": {},
   "outputs": [
    {
     "data": {
      "image/png": "[encoded data removed]",
      "text/plain": [
       "<Figure size 432x288 with 1 Axes>"
      ]
     },
     "metadata": {
      "needs_background": "light"
     },
     "output_type": "display_data"
    }
   ],
   "source": [
    "error = test_predictions - test_labels\n",
    "plt.hist(error, bins=25)\n",
    "plt.xlabel('Prediction Error [Price]')\n",
    "_ = plt.ylabel('Count')"
   ]
  },
  {
   "cell_type": "code",
   "execution_count": 130,
   "metadata": {},
   "outputs": [
    {
     "name": "stdout",
     "output_type": "stream",
     "text": [
      "INFO:tensorflow:Assets written to: linear_model/assets\n"
     ]
    }
   ],
   "source": [
    "linear_model.save(\"linear_model\")"
   ]
  },
  {
   "cell_type": "code",
   "execution_count": 131,
   "metadata": {},
   "outputs": [
    {
     "name": "stdout",
     "output_type": "stream",
     "text": [
      "Accuracy: 0.916744370108028\n",
      "Mean Absolute Error: 1.1375376220915272\n",
      "Mean Squared Error: 3.0739038114952195\n",
      "Mean Absolute Percentage Error: 0.08325562989197202\n"
     ]
    }
   ],
   "source": [
    "print('Accuracy:', (1 - np.mean(np.abs((test_labels - test_predictions) / np.abs(test_labels)))))\n",
    "print('Mean Absolute Error:', metrics.mean_absolute_error(test_labels, test_predictions))\n",
    "print('Mean Squared Error:', metrics.mean_squared_error(test_labels, test_predictions))\n",
    "print('Mean Absolute Percentage Error:', np.mean(np.abs((test_labels - test_predictions) / np.abs(test_labels))))"
   ]
  },
  {
   "cell_type": "code",
   "execution_count": 132,
   "metadata": {},
   "outputs": [
    {
     "name": "stdout",
     "output_type": "stream",
     "text": [
      "Predictions: [[12.868037 ]\n",
      " [27.922508 ]\n",
      " [14.930162 ]\n",
      " [19.653872 ]\n",
      " [ 7.2572927]]\n",
      "Actual Labels: [14.0, 26.0, 14.5, 19.0, 7.0]\n"
     ]
    }
   ],
   "source": [
    "some_data = data.iloc[10:15]\n",
    "some_labels = labels.iloc[10:15]\n",
    "\n",
    "# remember only to transform the data when preparing data for prediction\n",
    "some_data_prepared = full_pipeline.transform(some_data)\n",
    "\n",
    "print(\"Predictions:\", linear_model.predict(some_data_prepared))\n",
    "print(\"Actual Labels:\", list(some_labels))"
   ]
  }
 ],
 "metadata": {
  "interpreter": {
   "hash": "2bd96c2191a0e25aff30d6efea472a6b45a27e2db1a4eb188c17211a419c3d63"
  },
  "kernelspec": {
   "display_name": "Python 3.10.2 ('a1_csi4106')",
   "language": "python",
   "name": "python3"
  },
  "language_info": {
   "codemirror_mode": {
    "name": "ipython",
    "version": 3
   },
   "file_extension": ".py",
   "mimetype": "text/x-python",
   "name": "python",
   "nbconvert_exporter": "python",
   "pygments_lexer": "ipython3",
   "version": "3.10.2"
  },
  "orig_nbformat": 4
 },
 "nbformat": 4,
 "nbformat_minor": 2
}
