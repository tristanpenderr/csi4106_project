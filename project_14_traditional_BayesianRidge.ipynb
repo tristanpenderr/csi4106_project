{
 "cells": [
  {
   "cell_type": "markdown",
   "metadata": {},
   "source": [
    "# Final Project - CSI4106\n",
    "Group: project_14\n",
    "\n",
    " Tristan Pender - 300065847 - tpend052@uottawa.ca\n",
    "\n",
    " Rafael Villacorta - 300061289 - rvill094@uottawa.ca\n",
    " \n",
    " Hans Barrera - 300080843 - hbarr050@uottawa.ca"
   ]
  },
  {
   "cell_type": "code",
   "execution_count": 27,
   "metadata": {},
   "outputs": [
    {
     "data": {
      "text/plain": [
       "Reusing TensorBoard on port 6010 (pid 22298), started 3:24:09 ago. (Use '!kill 22298' to kill it.)"
      ]
     },
     "metadata": {},
     "output_type": "display_data"
    },
    {
     "data": {
      "text/html": [
       "\n",
       "      <iframe id=\"tensorboard-frame-1c80317fa3b1799d\" width=\"100%\" height=\"800\" frameborder=\"0\">\n",
       "      </iframe>\n",
       "      <script>\n",
       "        (function() {\n",
       "          const frame = document.getElementById(\"tensorboard-frame-1c80317fa3b1799d\");\n",
       "          const url = new URL(\"http://localhost\");\n",
       "          const port = 6010;\n",
       "          if (port) {\n",
       "            url.port = port;\n",
       "          }\n",
       "          frame.src = url;\n",
       "        })();\n",
       "      </script>\n",
       "    "
      ],
      "text/plain": [
       "<IPython.core.display.HTML object>"
      ]
     },
     "metadata": {},
     "output_type": "display_data"
    }
   ],
   "source": [
    "import numpy as np\n",
    "import tensorflow as tf\n",
    "import random as python_random\n",
    "import pandas as pd\n",
    "from tensorflow import keras\n",
    "from tensorflow.keras import datasets\n",
    "from tensorflow.keras import layers\n",
    "from sklearn.model_selection import train_test_split, StratifiedShuffleSplit, cross_val_score, GridSearchCV\n",
    "from sklearn.preprocessing import OrdinalEncoder, OneHotEncoder, StandardScaler\n",
    "from sklearn.pipeline import Pipeline\n",
    "from sklearn.compose import ColumnTransformer\n",
    "from sklearn.model_selection import train_test_split, StratifiedShuffleSplit, cross_val_score, GridSearchCV\n",
    "from sklearn.impute import SimpleImputer\n",
    "from sklearn.preprocessing import OrdinalEncoder, OneHotEncoder, StandardScaler\n",
    "from sklearn.pipeline import Pipeline\n",
    "from sklearn.compose import ColumnTransformer\n",
    "from sklearn.linear_model import LinearRegression\n",
    "from sklearn.svm import SVC\n",
    "from sklearn.metrics import mean_squared_error\n",
    "from sklearn.svm import SVR\n",
    "from sklearn import metrics\n",
    "from sklearn.linear_model import BayesianRidge\n",
    "\n",
    "import matplotlib.pyplot as plt\n",
    "from collections import Counter\n",
    "from sklearn.metrics import classification_report\n",
    "import datetime\n",
    "import os\n",
    "# for reproducibility purposes\n",
    "np.random.seed(42)\n",
    "python_random.seed(42)\n",
    "tf.random.set_seed(42)\n",
    "\n",
    "# load tensorboard\n",
    "%reload_ext tensorboard\n",
    "%tensorboard --logdir logs"
   ]
  },
  {
   "cell_type": "markdown",
   "metadata": {},
   "source": [
    "#### Data loading"
   ]
  },
  {
   "cell_type": "code",
   "execution_count": 28,
   "metadata": {},
   "outputs": [
    {
     "name": "stdout",
     "output_type": "stream",
     "text": [
      "(693071, 57) \n",
      "\n",
      "Index(['id', 'timestamp', 'hour', 'day', 'month', 'datetime', 'timezone',\n",
      "       'source', 'destination', 'cab_type', 'product_id', 'name', 'price',\n",
      "       'distance', 'surge_multiplier', 'latitude', 'longitude', 'temperature',\n",
      "       'apparentTemperature', 'short_summary', 'long_summary',\n",
      "       'precipIntensity', 'precipProbability', 'humidity', 'windSpeed',\n",
      "       'windGust', 'windGustTime', 'visibility', 'temperatureHigh',\n",
      "       'temperatureHighTime', 'temperatureLow', 'temperatureLowTime',\n",
      "       'apparentTemperatureHigh', 'apparentTemperatureHighTime',\n",
      "       'apparentTemperatureLow', 'apparentTemperatureLowTime', 'icon',\n",
      "       'dewPoint', 'pressure', 'windBearing', 'cloudCover', 'uvIndex',\n",
      "       'visibility.1', 'ozone', 'sunriseTime', 'sunsetTime', 'moonPhase',\n",
      "       'precipIntensityMax', 'uvIndexTime', 'temperatureMin',\n",
      "       'temperatureMinTime', 'temperatureMax', 'temperatureMaxTime',\n",
      "       'apparentTemperatureMin', 'apparentTemperatureMinTime',\n",
      "       'apparentTemperatureMax', 'apparentTemperatureMaxTime'],\n",
      "      dtype='object') \n",
      "\n"
     ]
    }
   ],
   "source": [
    "# load the dataset\n",
    "df = pd.read_csv('./data/rideshare_kaggle.csv')\n",
    "\n",
    "# print the dimensionality of the dataframe\n",
    "print(df.shape,\"\\n\")\n",
    "# print the names of the columns that can be used as features when training the machine learning model\n",
    "print(df.columns,\"\\n\")\n",
    "# rename columns and print the new names of the columns to allow for future manipulation of dataframe\n",
    "for column in df.columns:\n",
    "    new_title = column\n",
    "    if ' ' in column:\n",
    "        new_title = new_title.replace(\" \", \"_\")\n",
    "    if '(' in column:\n",
    "        new_title = new_title.replace(\"(\", \"as_\")\n",
    "        new_title = new_title.replace(\")\", \"\")\n",
    "    if '%' in column:\n",
    "        new_title = new_title.replace(\"%\", \"pct\")\n",
    "    if '+' in column:\n",
    "        new_title = new_title.replace(\"+\", \"plus\")\n",
    "    if ',' in column:\n",
    "        new_title = new_title.replace(\",\", \"\")\n",
    "    if '-' in column:\n",
    "        new_title = new_title.replace(\"-\", \"_to_\")\n",
    "    if '$' in column:\n",
    "        new_title = new_title.replace(\"$\", \"_dollars\")\n",
    "    df.rename({column: new_title}, axis=1, inplace=True)     "
   ]
  },
  {
   "cell_type": "markdown",
   "metadata": {},
   "source": [
    "#### Exploratory analysis"
   ]
  },
  {
   "cell_type": "code",
   "execution_count": 29,
   "metadata": {},
   "outputs": [
    {
     "name": "stdout",
     "output_type": "stream",
     "text": [
      "dataframe shape:\n",
      "(637976, 57)\n",
      "\n",
      "dataframe columns:\n",
      "Index(['id', 'timestamp', 'hour', 'day', 'month', 'datetime', 'timezone',\n",
      "       'source', 'destination', 'cab_type', 'product_id', 'name', 'price',\n",
      "       'distance', 'surge_multiplier', 'latitude', 'longitude', 'temperature',\n",
      "       'apparentTemperature', 'short_summary', 'long_summary',\n",
      "       'precipIntensity', 'precipProbability', 'humidity', 'windSpeed',\n",
      "       'windGust', 'windGustTime', 'visibility', 'temperatureHigh',\n",
      "       'temperatureHighTime', 'temperatureLow', 'temperatureLowTime',\n",
      "       'apparentTemperatureHigh', 'apparentTemperatureHighTime',\n",
      "       'apparentTemperatureLow', 'apparentTemperatureLowTime', 'icon',\n",
      "       'dewPoint', 'pressure', 'windBearing', 'cloudCover', 'uvIndex',\n",
      "       'visibility.1', 'ozone', 'sunriseTime', 'sunsetTime', 'moonPhase',\n",
      "       'precipIntensityMax', 'uvIndexTime', 'temperatureMin',\n",
      "       'temperatureMinTime', 'temperatureMax', 'temperatureMaxTime',\n",
      "       'apparentTemperatureMin', 'apparentTemperatureMinTime',\n",
      "       'apparentTemperatureMax', 'apparentTemperatureMaxTime'],\n",
      "      dtype='object')\n",
      "\n",
      "dataframe sample:\n",
      "                                     id     timestamp  hour  day  month  \\\n",
      "0  424553bb-7174-41ea-aeb4-fe06d4f4b9d7  1.544953e+09     9   16     12   \n",
      "1  4bd23055-6827-41c6-b23b-3c491f24e74d  1.543284e+09     2   27     11   \n",
      "2  981a3613-77af-4620-a42a-0c0866077d1e  1.543367e+09     1   28     11   \n",
      "3  c2d88af2-d278-4bfd-a8d0-29ca77cc5512  1.543554e+09     4   30     11   \n",
      "4  e0126e1f-8ca9-4f2e-82b3-50505a09db9a  1.543463e+09     3   29     11   \n",
      "\n",
      "              datetime          timezone            source    destination  \\\n",
      "0  2018-12-16 09:30:07  America/New_York  Haymarket Square  North Station   \n",
      "1  2018-11-27 02:00:23  America/New_York  Haymarket Square  North Station   \n",
      "2  2018-11-28 01:00:22  America/New_York  Haymarket Square  North Station   \n",
      "3  2018-11-30 04:53:02  America/New_York  Haymarket Square  North Station   \n",
      "4  2018-11-29 03:49:20  America/New_York  Haymarket Square  North Station   \n",
      "\n",
      "  cab_type  ... precipIntensityMax uvIndexTime  temperatureMin  \\\n",
      "0     Lyft  ...             0.1276  1544979600           39.89   \n",
      "1     Lyft  ...             0.1300  1543251600           40.49   \n",
      "2     Lyft  ...             0.1064  1543338000           35.36   \n",
      "3     Lyft  ...             0.0000  1543507200           34.67   \n",
      "4     Lyft  ...             0.0001  1543420800           33.10   \n",
      "\n",
      "   temperatureMinTime  temperatureMax  temperatureMaxTime  \\\n",
      "0          1545012000           43.68          1544968800   \n",
      "1          1543233600           47.30          1543251600   \n",
      "2          1543377600           47.55          1543320000   \n",
      "3          1543550400           45.03          1543510800   \n",
      "4          1543402800           42.18          1543420800   \n",
      "\n",
      "   apparentTemperatureMin  apparentTemperatureMinTime  apparentTemperatureMax  \\\n",
      "0                   33.73                  1545012000                   38.07   \n",
      "1                   36.20                  1543291200                   43.92   \n",
      "2                   31.04                  1543377600                   44.12   \n",
      "3                   30.30                  1543550400                   38.53   \n",
      "4                   29.11                  1543392000                   35.75   \n",
      "\n",
      "  apparentTemperatureMaxTime  \n",
      "0                 1544958000  \n",
      "1                 1543251600  \n",
      "2                 1543320000  \n",
      "3                 1543510800  \n",
      "4                 1543420800  \n",
      "\n",
      "[5 rows x 57 columns]\n",
      "\n"
     ]
    }
   ],
   "source": [
    "df = df.dropna()\n",
    "# Exploratory analysis\n",
    "print(f\"dataframe shape:\\n{df.shape}\\n\")\n",
    "print(f\"dataframe columns:\\n{df.columns}\\n\")\n",
    "print(f\"dataframe sample:\\n{df.head()}\\n\")"
   ]
  },
  {
   "cell_type": "code",
   "execution_count": 30,
   "metadata": {},
   "outputs": [
    {
     "name": "stdout",
     "output_type": "stream",
     "text": [
      "value counts:\n",
      "2018-11-26 23:33:14    151\n",
      "2018-11-29 02:29:08    149\n",
      "2018-11-29 02:47:08    146\n",
      "2018-11-27 00:03:14    146\n",
      "2018-11-29 04:38:08    146\n",
      "                      ... \n",
      "2018-12-03 07:33:03      3\n",
      "2018-11-30 21:33:07      3\n",
      "2018-12-15 06:05:07      3\n",
      "2018-12-13 15:10:13      1\n",
      "2018-11-30 13:17:58      1\n",
      "Name: datetime, Length: 31350, dtype: int64\n",
      "\n",
      "value counts:\n",
      "America/New_York    637976\n",
      "Name: timezone, dtype: int64\n",
      "\n",
      "value counts:\n",
      "Financial District         54197\n",
      "Back Bay                   53201\n",
      "Theatre District           53201\n",
      "Boston University          53172\n",
      "North End                  53171\n",
      "Fenway                     53166\n",
      "Northeastern University    53164\n",
      "South Station              53160\n",
      "Haymarket Square           53147\n",
      "West End                   52980\n",
      "Beacon Hill                52841\n",
      "North Station              52576\n",
      "Name: source, dtype: int64\n",
      "\n",
      "value counts:\n",
      "Financial District         54192\n",
      "Back Bay                   53190\n",
      "Theatre District           53189\n",
      "Haymarket Square           53171\n",
      "Boston University          53171\n",
      "Fenway                     53166\n",
      "Northeastern University    53165\n",
      "North End                  53164\n",
      "South Station              53159\n",
      "West End                   52992\n",
      "Beacon Hill                52840\n",
      "North Station              52577\n",
      "Name: destination, dtype: int64\n",
      "\n",
      "value counts:\n",
      "Uber    330568\n",
      "Lyft    307408\n",
      "Name: cab_type, dtype: int64\n",
      "\n",
      "value counts:\n",
      "6f72dfc5-27f1-42e8-84db-ccc7a75f6969    55096\n",
      "9a0e7b09-b92b-4c41-9779-2ad22b4d779d    55096\n",
      "6d318bcc-22a3-4af6-bddd-b409bfce1546    55096\n",
      "6c84fd89-3f11-4782-9b50-97c468b19529    55095\n",
      "55c66225-fbe7-4fd5-9072-eab1ece5e23e    55094\n",
      "997acbb5-e102-41e1-b155-9df7de0a73f2    55091\n",
      "lyft_premier                            51235\n",
      "lyft                                    51235\n",
      "lyft_luxsuv                             51235\n",
      "lyft_plus                               51235\n",
      "lyft_lux                                51235\n",
      "lyft_line                               51233\n",
      "Name: product_id, dtype: int64\n",
      "\n",
      "value counts:\n",
      " Overcast             201429\n",
      " Mostly Cloudy        134603\n",
      " Partly Cloudy        117226\n",
      " Clear                 80256\n",
      " Light Rain            50488\n",
      " Rain                  21781\n",
      " Possible Drizzle      17176\n",
      " Foggy                  8292\n",
      " Drizzle                6725\n",
      "Name: short_summary, dtype: int64\n",
      "\n"
     ]
    }
   ],
   "source": [
    "print(f\"value counts:\\n{df['datetime'].value_counts()}\\n\")\n",
    "print(f\"value counts:\\n{df['timezone'].value_counts()}\\n\")\n",
    "print(f\"value counts:\\n{df['source'].value_counts()}\\n\")\n",
    "print(f\"value counts:\\n{df['destination'].value_counts()}\\n\")\n",
    "print(f\"value counts:\\n{df['cab_type'].value_counts()}\\n\")\n",
    "print(f\"value counts:\\n{df['product_id'].value_counts()}\\n\")\n",
    "print(f\"value counts:\\n{df['short_summary'].value_counts()}\\n\")\n",
    "\n"
   ]
  },
  {
   "cell_type": "markdown",
   "metadata": {},
   "source": [
    "Transforming categorical data"
   ]
  },
  {
   "cell_type": "code",
   "execution_count": 31,
   "metadata": {},
   "outputs": [
    {
     "data": {
      "text/plain": [
       " cloudy                  201429\n",
       " partly-cloudy-night     145492\n",
       " partly-cloudy-day       106337\n",
       " rain                     96170\n",
       " clear-night              55577\n",
       " clear-day                24679\n",
       " fog                       8292\n",
       "Name: icon, dtype: int64"
      ]
     },
     "execution_count": 31,
     "metadata": {},
     "output_type": "execute_result"
    }
   ],
   "source": [
    "df.short_summary.value_counts()\n",
    "df.long_summary.value_counts()\n",
    "df.icon.value_counts()"
   ]
  },
  {
   "cell_type": "code",
   "execution_count": 32,
   "metadata": {},
   "outputs": [
    {
     "name": "stdout",
     "output_type": "stream",
     "text": [
      "Index(['timestamp', 'hour', 'day', 'month', 'source', 'destination',\n",
      "       'cab_type', 'product_id', 'name', 'price', 'distance',\n",
      "       'surge_multiplier', 'latitude', 'longitude', 'temperature',\n",
      "       'apparentTemperature', 'short_summary', 'precipIntensity',\n",
      "       'precipProbability', 'humidity', 'windSpeed', 'windGust',\n",
      "       'windGustTime', 'visibility', 'temperatureHigh', 'temperatureHighTime',\n",
      "       'temperatureLow', 'temperatureLowTime', 'apparentTemperatureHigh',\n",
      "       'apparentTemperatureHighTime', 'apparentTemperatureLow',\n",
      "       'apparentTemperatureLowTime', 'dewPoint', 'pressure', 'windBearing',\n",
      "       'cloudCover', 'uvIndex', 'visibility.1', 'ozone', 'sunriseTime',\n",
      "       'sunsetTime', 'moonPhase', 'precipIntensityMax', 'uvIndexTime',\n",
      "       'temperatureMin', 'temperatureMinTime', 'temperatureMax',\n",
      "       'temperatureMaxTime', 'apparentTemperatureMin',\n",
      "       'apparentTemperatureMinTime', 'apparentTemperatureMax',\n",
      "       'apparentTemperatureMaxTime'],\n",
      "      dtype='object')\n"
     ]
    }
   ],
   "source": [
    "del df[\"timezone\"] \n",
    "del df[\"datetime\"]\n",
    "del df[\"long_summary\"]\n",
    "del df[\"id\"]\n",
    "del df[\"icon\"]\n",
    "\n",
    "print(df.columns)"
   ]
  },
  {
   "cell_type": "code",
   "execution_count": 33,
   "metadata": {},
   "outputs": [
    {
     "name": "stdout",
     "output_type": "stream",
     "text": [
      "describe the dataset:\n",
      "          timestamp           hour            day          month  \\\n",
      "count  6.379760e+05  637976.000000  637976.000000  637976.000000   \n",
      "mean   1.544046e+09      11.618528      17.797674      11.586550   \n",
      "std    6.892028e+05       6.948776       9.982083       0.492452   \n",
      "min    1.543204e+09       0.000000       1.000000      11.000000   \n",
      "25%    1.543444e+09       6.000000      13.000000      11.000000   \n",
      "50%    1.543737e+09      12.000000      17.000000      12.000000   \n",
      "75%    1.544828e+09      18.000000      28.000000      12.000000   \n",
      "max    1.545161e+09      23.000000      30.000000      12.000000   \n",
      "\n",
      "               price       distance  surge_multiplier       latitude  \\\n",
      "count  637976.000000  637976.000000     637976.000000  637976.000000   \n",
      "mean       16.545125       2.189261          1.015068      42.338161   \n",
      "std         9.324359       1.135413          0.095422       0.047856   \n",
      "min         2.500000       0.020000          1.000000      42.214800   \n",
      "25%         9.000000       1.270000          1.000000      42.350300   \n",
      "50%        13.500000       2.160000          1.000000      42.351900   \n",
      "75%        22.500000       2.930000          1.000000      42.364700   \n",
      "max        97.500000       7.860000          3.000000      42.366100   \n",
      "\n",
      "           longitude    temperature  ...  precipIntensityMax   uvIndexTime  \\\n",
      "count  637976.000000  637976.000000  ...       637976.000000  6.379760e+05   \n",
      "mean      -71.066144      39.582406  ...            0.037369  1.544044e+09   \n",
      "std         0.020303       6.725500  ...            0.055216  6.912268e+05   \n",
      "min       -71.105400      18.910000  ...            0.000000  1.543162e+09   \n",
      "25%       -71.081000      36.450000  ...            0.000000  1.543421e+09   \n",
      "50%       -71.063100      40.490000  ...            0.000400  1.543770e+09   \n",
      "75%       -71.054200      43.580000  ...            0.091600  1.544807e+09   \n",
      "max       -71.033000      57.220000  ...            0.145900  1.545152e+09   \n",
      "\n",
      "       temperatureMin  temperatureMinTime  temperatureMax  temperatureMaxTime  \\\n",
      "count   637976.000000        6.379760e+05   637976.000000        6.379760e+05   \n",
      "mean        33.456171        1.544042e+09       45.259945        1.544047e+09   \n",
      "std          6.466349        6.902087e+05        5.644414        6.901597e+05   \n",
      "min         15.630000        1.543122e+09       33.510000        1.543154e+09   \n",
      "25%         30.170000        1.543399e+09       42.570000        1.543439e+09   \n",
      "50%         34.240000        1.543727e+09       44.660000        1.543788e+09   \n",
      "75%         38.880000        1.544789e+09       46.910000        1.544814e+09   \n",
      "max         43.100000        1.545192e+09       57.870000        1.545109e+09   \n",
      "\n",
      "       apparentTemperatureMin  apparentTemperatureMinTime  \\\n",
      "count           637976.000000                6.379760e+05   \n",
      "mean                29.729028                1.544048e+09   \n",
      "std                  7.109907                6.872011e+05   \n",
      "min                 11.810000                1.543136e+09   \n",
      "25%                 27.760000                1.543399e+09   \n",
      "50%                 30.130000                1.543745e+09   \n",
      "75%                 35.710000                1.544789e+09   \n",
      "max                 40.050000                1.545134e+09   \n",
      "\n",
      "       apparentTemperatureMax  apparentTemperatureMaxTime  \n",
      "count           637976.000000                6.379760e+05  \n",
      "mean                41.995876                1.544048e+09  \n",
      "std                  6.935538                6.911036e+05  \n",
      "min                 28.950000                1.543187e+09  \n",
      "25%                 36.570000                1.543439e+09  \n",
      "50%                 40.950000                1.543788e+09  \n",
      "75%                 44.120000                1.544818e+09  \n",
      "max                 57.200000                1.545109e+09  \n",
      "\n",
      "[8 rows x 46 columns]\n",
      "\n"
     ]
    }
   ],
   "source": [
    "# Exploratory analysis\n",
    "print(f\"describe the dataset:\\n{df.describe()}\\n\")"
   ]
  },
  {
   "cell_type": "code",
   "execution_count": 34,
   "metadata": {},
   "outputs": [
    {
     "data": {
      "image/png": "[encoded data removed]",
      "text/plain": [
       "<Figure size 576x360 with 1 Axes>"
      ]
     },
     "metadata": {
      "needs_background": "light"
     },
     "output_type": "display_data"
    }
   ],
   "source": [
    "# Exploratory analysis\n",
    "# plot(using a histogram) each column by seperating data into 50 bins\n",
    "df['distance'].hist(bins=70, figsize=(8,5))\n",
    "plt.show()"
   ]
  },
  {
   "cell_type": "code",
   "execution_count": 35,
   "metadata": {},
   "outputs": [
    {
     "name": "stdout",
     "output_type": "stream",
     "text": [
      "timestamp                      float64\n",
      "hour                             int64\n",
      "day                              int64\n",
      "month                            int64\n",
      "source                          object\n",
      "destination                     object\n",
      "cab_type                        object\n",
      "product_id                      object\n",
      "name                            object\n",
      "price                          float64\n",
      "distance                       float64\n",
      "surge_multiplier               float64\n",
      "latitude                       float64\n",
      "longitude                      float64\n",
      "temperature                    float64\n",
      "apparentTemperature            float64\n",
      "short_summary                   object\n",
      "precipIntensity                float64\n",
      "precipProbability              float64\n",
      "humidity                       float64\n",
      "windSpeed                      float64\n",
      "windGust                       float64\n",
      "windGustTime                     int64\n",
      "visibility                     float64\n",
      "temperatureHigh                float64\n",
      "temperatureHighTime              int64\n",
      "temperatureLow                 float64\n",
      "temperatureLowTime               int64\n",
      "apparentTemperatureHigh        float64\n",
      "apparentTemperatureHighTime      int64\n",
      "apparentTemperatureLow         float64\n",
      "apparentTemperatureLowTime       int64\n",
      "dewPoint                       float64\n",
      "pressure                       float64\n",
      "windBearing                      int64\n",
      "cloudCover                     float64\n",
      "uvIndex                          int64\n",
      "visibility.1                   float64\n",
      "ozone                          float64\n",
      "sunriseTime                      int64\n",
      "sunsetTime                       int64\n",
      "moonPhase                      float64\n",
      "precipIntensityMax             float64\n",
      "uvIndexTime                      int64\n",
      "temperatureMin                 float64\n",
      "temperatureMinTime               int64\n",
      "temperatureMax                 float64\n",
      "temperatureMaxTime               int64\n",
      "apparentTemperatureMin         float64\n",
      "apparentTemperatureMinTime       int64\n",
      "apparentTemperatureMax         float64\n",
      "apparentTemperatureMaxTime       int64\n",
      "dtype: object\n"
     ]
    }
   ],
   "source": [
    "print(df.dtypes)"
   ]
  },
  {
   "cell_type": "code",
   "execution_count": 36,
   "metadata": {},
   "outputs": [],
   "source": [
    "# one way to preparing your train and test data\n",
    "# NOTE: a random train/test split could introduce sample bias\n",
    "df_train, df_test = train_test_split(df, test_size=0.2, random_state=42)"
   ]
  },
  {
   "cell_type": "code",
   "execution_count": 37,
   "metadata": {},
   "outputs": [
    {
     "name": "stdout",
     "output_type": "stream",
     "text": [
      "          timestamp           hour            day          month  \\\n",
      "count  6.379760e+05  637976.000000  637976.000000  637976.000000   \n",
      "mean   1.544046e+09      11.618528      17.797674      11.586550   \n",
      "std    6.892028e+05       6.948776       9.982083       0.492452   \n",
      "min    1.543204e+09       0.000000       1.000000      11.000000   \n",
      "25%    1.543444e+09       6.000000      13.000000      11.000000   \n",
      "50%    1.543737e+09      12.000000      17.000000      12.000000   \n",
      "75%    1.544828e+09      18.000000      28.000000      12.000000   \n",
      "max    1.545161e+09      23.000000      30.000000      12.000000   \n",
      "\n",
      "               price       distance  surge_multiplier       latitude  \\\n",
      "count  637976.000000  637976.000000     637976.000000  637976.000000   \n",
      "mean       16.545125       2.189261          1.015068      42.338161   \n",
      "std         9.324359       1.135413          0.095422       0.047856   \n",
      "min         2.500000       0.020000          1.000000      42.214800   \n",
      "25%         9.000000       1.270000          1.000000      42.350300   \n",
      "50%        13.500000       2.160000          1.000000      42.351900   \n",
      "75%        22.500000       2.930000          1.000000      42.364700   \n",
      "max        97.500000       7.860000          3.000000      42.366100   \n",
      "\n",
      "           longitude    temperature  ...  precipIntensityMax   uvIndexTime  \\\n",
      "count  637976.000000  637976.000000  ...       637976.000000  6.379760e+05   \n",
      "mean      -71.066144      39.582406  ...            0.037369  1.544044e+09   \n",
      "std         0.020303       6.725500  ...            0.055216  6.912268e+05   \n",
      "min       -71.105400      18.910000  ...            0.000000  1.543162e+09   \n",
      "25%       -71.081000      36.450000  ...            0.000000  1.543421e+09   \n",
      "50%       -71.063100      40.490000  ...            0.000400  1.543770e+09   \n",
      "75%       -71.054200      43.580000  ...            0.091600  1.544807e+09   \n",
      "max       -71.033000      57.220000  ...            0.145900  1.545152e+09   \n",
      "\n",
      "       temperatureMin  temperatureMinTime  temperatureMax  temperatureMaxTime  \\\n",
      "count   637976.000000        6.379760e+05   637976.000000        6.379760e+05   \n",
      "mean        33.456171        1.544042e+09       45.259945        1.544047e+09   \n",
      "std          6.466349        6.902087e+05        5.644414        6.901597e+05   \n",
      "min         15.630000        1.543122e+09       33.510000        1.543154e+09   \n",
      "25%         30.170000        1.543399e+09       42.570000        1.543439e+09   \n",
      "50%         34.240000        1.543727e+09       44.660000        1.543788e+09   \n",
      "75%         38.880000        1.544789e+09       46.910000        1.544814e+09   \n",
      "max         43.100000        1.545192e+09       57.870000        1.545109e+09   \n",
      "\n",
      "       apparentTemperatureMin  apparentTemperatureMinTime  \\\n",
      "count           637976.000000                6.379760e+05   \n",
      "mean                29.729028                1.544048e+09   \n",
      "std                  7.109907                6.872011e+05   \n",
      "min                 11.810000                1.543136e+09   \n",
      "25%                 27.760000                1.543399e+09   \n",
      "50%                 30.130000                1.543745e+09   \n",
      "75%                 35.710000                1.544789e+09   \n",
      "max                 40.050000                1.545134e+09   \n",
      "\n",
      "       apparentTemperatureMax  apparentTemperatureMaxTime  \n",
      "count           637976.000000                6.379760e+05  \n",
      "mean                41.995876                1.544048e+09  \n",
      "std                  6.935538                6.911036e+05  \n",
      "min                 28.950000                1.543187e+09  \n",
      "25%                 36.570000                1.543439e+09  \n",
      "50%                 40.950000                1.543788e+09  \n",
      "75%                 44.120000                1.544818e+09  \n",
      "max                 57.200000                1.545109e+09  \n",
      "\n",
      "[8 rows x 46 columns]\n",
      "************\n",
      "          timestamp           hour            day          month  \\\n",
      "count  5.103800e+05  510380.000000  510380.000000  510380.000000   \n",
      "mean   1.544046e+09      11.612530      17.801871      11.586490   \n",
      "std    6.893696e+05       6.946365       9.980501       0.492463   \n",
      "min    1.543204e+09       0.000000       1.000000      11.000000   \n",
      "25%    1.543444e+09       6.000000      13.000000      11.000000   \n",
      "50%    1.543737e+09      12.000000      17.000000      12.000000   \n",
      "75%    1.544828e+09      18.000000      28.000000      12.000000   \n",
      "max    1.545161e+09      23.000000      30.000000      12.000000   \n",
      "\n",
      "               price       distance  surge_multiplier       latitude  \\\n",
      "count  510380.000000  510380.000000     510380.000000  510380.000000   \n",
      "mean       16.545838       2.188397          1.015041      42.338139   \n",
      "std         9.321184       1.135427          0.095263       0.047870   \n",
      "min         2.500000       0.020000          1.000000      42.214800   \n",
      "25%         9.000000       1.270000          1.000000      42.350300   \n",
      "50%        13.500000       2.160000          1.000000      42.351900   \n",
      "75%        22.500000       2.930000          1.000000      42.364700   \n",
      "max        97.500000       7.860000          3.000000      42.366100   \n",
      "\n",
      "           longitude    temperature  ...  precipIntensityMax   uvIndexTime  \\\n",
      "count  510380.000000  510380.000000  ...       510380.000000  5.103800e+05   \n",
      "mean      -71.066148      39.579981  ...            0.037387  1.544044e+09   \n",
      "std         0.020311       6.726448  ...            0.055217  6.913888e+05   \n",
      "min       -71.105400      18.910000  ...            0.000000  1.543162e+09   \n",
      "25%       -71.081000      36.500000  ...            0.000000  1.543421e+09   \n",
      "50%       -71.063100      40.490000  ...            0.000400  1.543770e+09   \n",
      "75%       -71.054200      43.580000  ...            0.091600  1.544807e+09   \n",
      "max       -71.033000      57.220000  ...            0.145900  1.545152e+09   \n",
      "\n",
      "       temperatureMin  temperatureMinTime  temperatureMax  temperatureMaxTime  \\\n",
      "count   510380.000000        5.103800e+05   510380.000000        5.103800e+05   \n",
      "mean        33.457042        1.544042e+09       45.257301        1.544047e+09   \n",
      "std          6.464069        6.903741e+05        5.645092        6.903107e+05   \n",
      "min         15.630000        1.543122e+09       33.510000        1.543154e+09   \n",
      "25%         30.170000        1.543399e+09       42.570000        1.543439e+09   \n",
      "50%         34.240000        1.543727e+09       44.660000        1.543788e+09   \n",
      "75%         38.880000        1.544789e+09       46.910000        1.544814e+09   \n",
      "max         43.100000        1.545192e+09       57.870000        1.545109e+09   \n",
      "\n",
      "       apparentTemperatureMin  apparentTemperatureMinTime  \\\n",
      "count           510380.000000                5.103800e+05   \n",
      "mean                29.727230                1.544048e+09   \n",
      "std                  7.110432                6.873781e+05   \n",
      "min                 11.810000                1.543136e+09   \n",
      "25%                 27.760000                1.543399e+09   \n",
      "50%                 30.130000                1.543745e+09   \n",
      "75%                 35.710000                1.544789e+09   \n",
      "max                 40.050000                1.545134e+09   \n",
      "\n",
      "       apparentTemperatureMax  apparentTemperatureMaxTime  \n",
      "count           510380.000000                5.103800e+05  \n",
      "mean                41.991380                1.544048e+09  \n",
      "std                  6.937035                6.912597e+05  \n",
      "min                 28.950000                1.543187e+09  \n",
      "25%                 36.570000                1.543439e+09  \n",
      "50%                 40.950000                1.543788e+09  \n",
      "75%                 44.120000                1.544818e+09  \n",
      "max                 57.200000                1.545109e+09  \n",
      "\n",
      "[8 rows x 46 columns]\n",
      "      timestamp  hour  day  month            source    destination cab_type  \\\n",
      "0  1.544953e+09     9   16     12  Haymarket Square  North Station     Lyft   \n",
      "1  1.543284e+09     2   27     11  Haymarket Square  North Station     Lyft   \n",
      "2  1.543367e+09     1   28     11  Haymarket Square  North Station     Lyft   \n",
      "3  1.543554e+09     4   30     11  Haymarket Square  North Station     Lyft   \n",
      "4  1.543463e+09     3   29     11  Haymarket Square  North Station     Lyft   \n",
      "\n",
      "     product_id          name  price  ...  precipIntensityMax  uvIndexTime  \\\n",
      "0     lyft_line        Shared    5.0  ...              0.1276   1544979600   \n",
      "1  lyft_premier           Lux   11.0  ...              0.1300   1543251600   \n",
      "2          lyft          Lyft    7.0  ...              0.1064   1543338000   \n",
      "3   lyft_luxsuv  Lux Black XL   26.0  ...              0.0000   1543507200   \n",
      "4     lyft_plus       Lyft XL    9.0  ...              0.0001   1543420800   \n",
      "\n",
      "   temperatureMin  temperatureMinTime  temperatureMax  temperatureMaxTime  \\\n",
      "0           39.89          1545012000           43.68          1544968800   \n",
      "1           40.49          1543233600           47.30          1543251600   \n",
      "2           35.36          1543377600           47.55          1543320000   \n",
      "3           34.67          1543550400           45.03          1543510800   \n",
      "4           33.10          1543402800           42.18          1543420800   \n",
      "\n",
      "  apparentTemperatureMin  apparentTemperatureMinTime  apparentTemperatureMax  \\\n",
      "0                  33.73                  1545012000                   38.07   \n",
      "1                  36.20                  1543291200                   43.92   \n",
      "2                  31.04                  1543377600                   44.12   \n",
      "3                  30.30                  1543550400                   38.53   \n",
      "4                  29.11                  1543392000                   35.75   \n",
      "\n",
      "   apparentTemperatureMaxTime  \n",
      "0                  1544958000  \n",
      "1                  1543251600  \n",
      "2                  1543320000  \n",
      "3                  1543510800  \n",
      "4                  1543420800  \n",
      "\n",
      "[5 rows x 52 columns]\n"
     ]
    }
   ],
   "source": [
    "# the sampling bias is not that evident in this dataset\n",
    "print(df.describe())\n",
    "print(\"************\")\n",
    "print(df_train.describe())\n",
    "print(df.head())"
   ]
  },
  {
   "cell_type": "code",
   "execution_count": 38,
   "metadata": {},
   "outputs": [
    {
     "data": {
      "text/plain": [
       "<AxesSubplot:>"
      ]
     },
     "execution_count": 38,
     "metadata": {},
     "output_type": "execute_result"
    },
    {
     "data": {
      "image/png": "[encoded data removed]",
      "text/plain": [
       "<Figure size 432x288 with 1 Axes>"
      ]
     },
     "metadata": {
      "needs_background": "light"
     },
     "output_type": "display_data"
    }
   ],
   "source": [
    "df[\"timestamp\"].hist()"
   ]
  },
  {
   "cell_type": "code",
   "execution_count": 39,
   "metadata": {},
   "outputs": [
    {
     "name": "stdout",
     "output_type": "stream",
     "text": [
      "price                          1.000000\n",
      "distance                       0.345061\n",
      "surge_multiplier               0.240458\n",
      "latitude                       0.002088\n",
      "visibility.1                   0.001497\n",
      "visibility                     0.001497\n",
      "windGust                       0.001218\n",
      "precipIntensityMax             0.001114\n",
      "windSpeed                      0.000990\n",
      "month                          0.000913\n",
      "cloudCover                     0.000883\n",
      "pressure                       0.000866\n",
      "windGustTime                   0.000851\n",
      "apparentTemperatureLow         0.000831\n",
      "apparentTemperatureMinTime     0.000814\n",
      "timestamp                      0.000808\n",
      "temperatureMinTime             0.000769\n",
      "temperatureMaxTime             0.000766\n",
      "uvIndexTime                    0.000763\n",
      "apparentTemperatureLowTime     0.000761\n",
      "sunsetTime                     0.000760\n",
      "sunriseTime                    0.000760\n",
      "temperatureHighTime            0.000759\n",
      "temperatureLowTime             0.000754\n",
      "apparentTemperatureMaxTime     0.000746\n",
      "apparentTemperatureHighTime    0.000741\n",
      "hour                           0.000561\n",
      "ozone                          0.000460\n",
      "temperatureLow                 0.000182\n",
      "precipIntensity                0.000166\n",
      "temperature                   -0.000084\n",
      "apparentTemperature           -0.000193\n",
      "precipProbability             -0.000243\n",
      "apparentTemperatureHigh       -0.000261\n",
      "apparentTemperatureMax        -0.000290\n",
      "uvIndex                       -0.000424\n",
      "temperatureMin                -0.000428\n",
      "temperatureHigh               -0.000516\n",
      "temperatureMax                -0.000550\n",
      "apparentTemperatureMin        -0.000580\n",
      "dewPoint                      -0.000615\n",
      "day                           -0.000722\n",
      "humidity                      -0.001238\n",
      "windBearing                   -0.001382\n",
      "longitude                     -0.001417\n",
      "moonPhase                     -0.001602\n",
      "Name: price, dtype: float64\n"
     ]
    }
   ],
   "source": [
    "# identifying the correlation between features\n",
    "# NOTE: if certain features are highly correlated, you can drop one of the correlated features to reduce the dimensionality of the feature space\n",
    "corr_matrix = df.corr()\n",
    "# print(corr_matrix)\n",
    "print(corr_matrix['price'].sort_values(ascending=False))"
   ]
  },
  {
   "cell_type": "markdown",
   "metadata": {},
   "source": [
    "#### Model Development"
   ]
  },
  {
   "cell_type": "code",
   "execution_count": 40,
   "metadata": {},
   "outputs": [],
   "source": [
    "# model development\n",
    "# prepare the data\n",
    "# drop label column(axis=1) from the training dataset\n",
    "# remember that dataframes are mutable(i.e., reason for using .copy())\n",
    "data = df_train.drop(\"price\", axis=1) \n",
    "labels = df_train[\"price\"].copy()"
   ]
  },
  {
   "cell_type": "code",
   "execution_count": 41,
   "metadata": {},
   "outputs": [
    {
     "name": "stdout",
     "output_type": "stream",
     "text": [
      "Empty DataFrame\n",
      "Columns: [timestamp, hour, day, month, source, destination, cab_type, product_id, name, distance, surge_multiplier, latitude, longitude, temperature, apparentTemperature, short_summary, precipIntensity, precipProbability, humidity, windSpeed, windGust, windGustTime, visibility, temperatureHigh, temperatureHighTime, temperatureLow, temperatureLowTime, apparentTemperatureHigh, apparentTemperatureHighTime, apparentTemperatureLow, apparentTemperatureLowTime, dewPoint, pressure, windBearing, cloudCover, uvIndex, visibility.1, ozone, sunriseTime, sunsetTime, moonPhase, precipIntensityMax, uvIndexTime, temperatureMin, temperatureMinTime, temperatureMax, temperatureMaxTime, apparentTemperatureMin, apparentTemperatureMinTime, apparentTemperatureMax, apparentTemperatureMaxTime]\n",
      "Index: []\n",
      "\n",
      "[0 rows x 51 columns]\n",
      "(0, 51)\n"
     ]
    }
   ],
   "source": [
    "# check to see if there are any missing data\n",
    "sample_incomplete_rows = data[data.isnull().any(axis=1)].head()\n",
    "print(sample_incomplete_rows)\n",
    "print(sample_incomplete_rows.shape)"
   ]
  },
  {
   "cell_type": "code",
   "execution_count": 42,
   "metadata": {},
   "outputs": [
    {
     "name": "stdout",
     "output_type": "stream",
     "text": [
      "value counts:\n",
      "Financial District         54197\n",
      "Back Bay                   53201\n",
      "Theatre District           53201\n",
      "Boston University          53172\n",
      "North End                  53171\n",
      "Fenway                     53166\n",
      "Northeastern University    53164\n",
      "South Station              53160\n",
      "Haymarket Square           53147\n",
      "West End                   52980\n",
      "Beacon Hill                52841\n",
      "North Station              52576\n",
      "Name: source, dtype: int64\n",
      "\n",
      "value counts:\n",
      "Financial District         54192\n",
      "Back Bay                   53190\n",
      "Theatre District           53189\n",
      "Haymarket Square           53171\n",
      "Boston University          53171\n",
      "Fenway                     53166\n",
      "Northeastern University    53165\n",
      "North End                  53164\n",
      "South Station              53159\n",
      "West End                   52992\n",
      "Beacon Hill                52840\n",
      "North Station              52577\n",
      "Name: destination, dtype: int64\n",
      "\n",
      "value counts:\n",
      "Uber    330568\n",
      "Lyft    307408\n",
      "Name: cab_type, dtype: int64\n",
      "\n",
      "value counts:\n",
      "6f72dfc5-27f1-42e8-84db-ccc7a75f6969    55096\n",
      "9a0e7b09-b92b-4c41-9779-2ad22b4d779d    55096\n",
      "6d318bcc-22a3-4af6-bddd-b409bfce1546    55096\n",
      "6c84fd89-3f11-4782-9b50-97c468b19529    55095\n",
      "55c66225-fbe7-4fd5-9072-eab1ece5e23e    55094\n",
      "997acbb5-e102-41e1-b155-9df7de0a73f2    55091\n",
      "lyft_premier                            51235\n",
      "lyft                                    51235\n",
      "lyft_luxsuv                             51235\n",
      "lyft_plus                               51235\n",
      "lyft_lux                                51235\n",
      "lyft_line                               51233\n",
      "Name: product_id, dtype: int64\n",
      "\n",
      "value counts:\n",
      " Overcast             201429\n",
      " Mostly Cloudy        134603\n",
      " Partly Cloudy        117226\n",
      " Clear                 80256\n",
      " Light Rain            50488\n",
      " Rain                  21781\n",
      " Possible Drizzle      17176\n",
      " Foggy                  8292\n",
      " Drizzle                6725\n",
      "Name: short_summary, dtype: int64\n",
      "\n",
      "Index(['timestamp', 'hour', 'day', 'month', 'distance', 'surge_multiplier',\n",
      "       'latitude', 'longitude', 'temperature', 'apparentTemperature',\n",
      "       'precipIntensity', 'precipProbability', 'humidity', 'windSpeed',\n",
      "       'windGust', 'windGustTime', 'visibility', 'temperatureHigh',\n",
      "       'temperatureHighTime', 'temperatureLow', 'temperatureLowTime',\n",
      "       'apparentTemperatureHigh', 'apparentTemperatureHighTime',\n",
      "       'apparentTemperatureLow', 'apparentTemperatureLowTime', 'dewPoint',\n",
      "       'pressure', 'windBearing', 'cloudCover', 'uvIndex', 'visibility.1',\n",
      "       'ozone', 'sunriseTime', 'sunsetTime', 'moonPhase', 'precipIntensityMax',\n",
      "       'uvIndexTime', 'temperatureMin', 'temperatureMinTime', 'temperatureMax',\n",
      "       'temperatureMaxTime', 'apparentTemperatureMin',\n",
      "       'apparentTemperatureMinTime', 'apparentTemperatureMax',\n",
      "       'apparentTemperatureMaxTime'],\n",
      "      dtype='object')\n"
     ]
    }
   ],
   "source": [
    "print(f\"value counts:\\n{df['source'].value_counts()}\\n\")\n",
    "print(f\"value counts:\\n{df['destination'].value_counts()}\\n\")\n",
    "print(f\"value counts:\\n{df['cab_type'].value_counts()}\\n\")\n",
    "print(f\"value counts:\\n{df['product_id'].value_counts()}\\n\")\n",
    "print(f\"value counts:\\n{df['short_summary'].value_counts()}\\n\")\n",
    "\n",
    "# because the median is calculated on numerical data, we need to drop categorical features from the dataframe\n",
    "rideshare_num = data.drop(['source','destination','cab_type','product_id','short_summary', \"name\"], axis=1)\n",
    "print(rideshare_num.columns)"
   ]
  },
  {
   "cell_type": "code",
   "execution_count": 43,
   "metadata": {},
   "outputs": [
    {
     "name": "stdout",
     "output_type": "stream",
     "text": [
      "[[-0.43902292 -0.37610063 -1.58327596 ...  1.          0.\n",
      "   0.        ]\n",
      " [ 1.12694399  1.35142318 -0.38093028 ...  0.          0.\n",
      "   0.        ]\n",
      " [ 0.51316528  1.63934382 -0.88190765 ...  0.          0.\n",
      "   0.        ]\n",
      " ...\n",
      " [-0.85113169 -1.38382285  1.12200182 ...  1.          0.\n",
      "   0.        ]\n",
      " [ 0.97941487  0.77558191 -0.48112575 ...  0.          0.\n",
      "   0.        ]\n",
      " [ 0.91543462 -1.09590222 -0.48112575 ...  0.          0.\n",
      "   0.        ]]\n"
     ]
    }
   ],
   "source": [
    "# creating a pipeline so that you can chain together multiple steps\n",
    "# NOTE: remember that the output from one step will be an inout to the other\n",
    "# you can do these steps seperately and combine but Pipelines are more efficient\n",
    "num_pipeline = Pipeline([\n",
    "        ('std_scaler', StandardScaler()),\n",
    "    ])\n",
    "\n",
    "num_attribs = list(rideshare_num)\n",
    "cat_attribs = ['source','destination','cab_type','product_id','short_summary', \"name\"]\n",
    "\n",
    "# will be applying tranasformer object to the given subset of data\n",
    "# NOTE: e.g., the \"num_pipeline\" transformer object will be applied on the given set of columns\n",
    "full_pipeline = ColumnTransformer([\n",
    "        (\"num\", num_pipeline, num_attribs),\n",
    "        (\"cat\", OneHotEncoder(), cat_attribs),\n",
    "    ])\n",
    "\n",
    " # sending the data through a chain of transformations\n",
    " # NOTE: the final dataset is a 2D numpy array containg all numerical data\n",
    "rideshare_prepared = full_pipeline.fit_transform(data)\n",
    "print(rideshare_prepared)"
   ]
  },
  {
   "cell_type": "code",
   "execution_count": 44,
   "metadata": {},
   "outputs": [
    {
     "name": "stdout",
     "output_type": "stream",
     "text": [
      "Predictions: [ 9.94165039 34.60400391 28.73266602 12.95898438 13.26074219]\n",
      "Actual Labels: [9.0, 32.5, 28.5, 11.0, 10.5]\n"
     ]
    }
   ],
   "source": [
    "# training a linear regression model\n",
    "# NOTE: n_jobs -> number of processors to use for the computation (-1: indicates all the processors)\n",
    "lin_reg = LinearRegression(n_jobs=-1)\n",
    "\n",
    "# NOTE: we are using the transformed training data(housing_prepared) when training the model\n",
    "lin_reg.fit(rideshare_prepared, labels)\n",
    "some_data = data.iloc[:5]\n",
    "some_labels = labels.iloc[:5]\n",
    "\n",
    "# remember only to transform the data when preparing data for prediction\n",
    "some_data_prepared = full_pipeline.transform(some_data)\n",
    "\n",
    "print(\"Predictions:\", lin_reg.predict(some_data_prepared))\n",
    "print(\"Actual Labels:\", list(some_labels))"
   ]
  },
  {
   "cell_type": "code",
   "execution_count": 45,
   "metadata": {},
   "outputs": [],
   "source": [
    "# using a more powerful model to do the prediction\n",
    "rf_reg = BayesianRidge( verbose=3)\n",
    "\n"
   ]
  },
  {
   "cell_type": "code",
   "execution_count": 46,
   "metadata": {},
   "outputs": [
    {
     "name": "stdout",
     "output_type": "stream",
     "text": [
      "Convergence after  4  iterations\n",
      "Convergence after  4  iterations\n",
      "Predictions: [ 9.93811548 34.60604166 28.7463034  12.96700475 13.26381015]\n",
      "Actual Labels: [9.0, 32.5, 28.5, 11.0, 10.5]\n",
      "2.490663089329431\n"
     ]
    }
   ],
   "source": [
    "rf_reg.fit(rideshare_prepared, labels)\n",
    "housing_predictions = rf_reg.predict(rideshare_prepared)\n",
    "rf_rmse = mean_squared_error(labels, housing_predictions, squared=False)\n",
    "# NOTE: we are using the transformed training data(housing_prepared) when training the model\n",
    "rf_reg.fit(rideshare_prepared, labels)\n",
    "some_data = data.iloc[:5]\n",
    "some_labels = labels.iloc[:5]\n",
    "\n",
    "# remember only to transform the data when preparing data for prediction\n",
    "some_data_prepared = full_pipeline.transform(some_data)\n",
    "\n",
    "print(\"Predictions:\", rf_reg.predict(some_data_prepared))\n",
    "print(\"Actual Labels:\", list(some_labels))\n",
    "\n",
    "print(rf_rmse)\n",
    "# train the model with different number of estimators\n",
    "# 200 -> 18223\n",
    "# 100 -> 18479\n",
    "# 50 -> 18657\n",
    "# 300 -> 18105\n",
    "# bootstrap: True / False"
   ]
  },
  {
   "cell_type": "code",
   "execution_count": 47,
   "metadata": {},
   "outputs": [],
   "source": [
    "# model development\n",
    "# prepare the data\n",
    "# drop label column(axis=1) from the training dataset\n",
    "# remember that dataframes are mutable(i.e., reason for using .copy())\n",
    "test_data = df_test.drop(\"price\", axis=1) \n",
    "test_labels = df_test[\"price\"].copy()"
   ]
  },
  {
   "cell_type": "code",
   "execution_count": 48,
   "metadata": {},
   "outputs": [],
   "source": [
    "rideshare_prepared_test = full_pipeline.fit_transform(test_data)\n",
    "    "
   ]
  },
  {
   "cell_type": "code",
   "execution_count": 49,
   "metadata": {},
   "outputs": [
    {
     "data": {
      "image/png": "[encoded data removed]",
      "text/plain": [
       "<Figure size 432x288 with 1 Axes>"
      ]
     },
     "metadata": {
      "needs_background": "light"
     },
     "output_type": "display_data"
    }
   ],
   "source": [
    "test_predictions = rf_reg.predict(rideshare_prepared_test).flatten()\n",
    "\n",
    "a = plt.axes(aspect='equal')\n",
    "plt.scatter(test_labels, test_predictions)\n",
    "plt.xlabel('True Values [Price]')\n",
    "plt.ylabel('Predictions [Price]')\n",
    "lims = [0, 60]\n",
    "plt.xlim(lims)\n",
    "plt.ylim(lims)\n",
    "_ = plt.plot(lims, lims)"
   ]
  },
  {
   "cell_type": "code",
   "execution_count": 50,
   "metadata": {},
   "outputs": [
    {
     "name": "stdout",
     "output_type": "stream",
     "text": [
      "Accuracy: 0.8679013502344672\n",
      "Mean Absolute Error: 1.7482148657156518\n",
      "Mean Squared Error: 6.219217790679966\n",
      "Mean Absolute Percentage Error: 0.13209864976553273\n"
     ]
    }
   ],
   "source": [
    "print('Accuracy:', (1 - np.mean(np.abs((test_labels - test_predictions) / np.abs(test_labels)))))\n",
    "print('Mean Absolute Error:', metrics.mean_absolute_error(test_labels, test_predictions))\n",
    "print('Mean Squared Error:', metrics.mean_squared_error(test_labels, test_predictions))\n",
    "print('Mean Absolute Percentage Error:', np.mean(np.abs((test_labels - test_predictions) / np.abs(test_labels))))"
   ]
  },
  {
   "cell_type": "code",
   "execution_count": 51,
   "metadata": {},
   "outputs": [
    {
     "data": {
      "image/png": "[encoded data removed]",
      "text/plain": [
       "<Figure size 432x288 with 1 Axes>"
      ]
     },
     "metadata": {
      "needs_background": "light"
     },
     "output_type": "display_data"
    }
   ],
   "source": [
    "test_predictions = lin_reg.predict(rideshare_prepared_test).flatten()\n",
    "\n",
    "a = plt.axes(aspect='equal')\n",
    "plt.scatter(test_labels, test_predictions)\n",
    "plt.xlabel('True Values [Price]')\n",
    "plt.ylabel('Predictions [Price]')\n",
    "lims = [0, 60]\n",
    "plt.xlim(lims)\n",
    "plt.ylim(lims)\n",
    "_ = plt.plot(lims, lims)"
   ]
  },
  {
   "cell_type": "code",
   "execution_count": 52,
   "metadata": {},
   "outputs": [
    {
     "name": "stdout",
     "output_type": "stream",
     "text": [
      "Accuracy: 0.9074143629807693\n",
      "Mean Absolute Error: 1.7480951635496509\n",
      "Mean Squared Error: 6.219887557354141\n",
      "Mean Absolute Percentage Error: 0.13206258037484692\n"
     ]
    }
   ],
   "source": [
    "print('Accuracy:', (1 - np.median(np.abs((test_labels - test_predictions) / np.abs(test_labels)))))\n",
    "print('Mean Absolute Error:', metrics.mean_absolute_error(test_labels, test_predictions))\n",
    "print('Mean Squared Error:', metrics.mean_squared_error(test_labels, test_predictions))\n",
    "print('Mean Absolute Percentage Error:', np.mean(np.abs((test_labels - test_predictions) / np.abs(test_labels))))"
   ]
  }
 ],
 "metadata": {
  "interpreter": {
   "hash": "7b480c7541959399d1e5765225f3656db90713a187940cf72fe982a5db13441f"
  },
  "kernelspec": {
   "display_name": "Python 3.8.12",
   "language": "python",
   "name": "python3"
  },
  "language_info": {
   "codemirror_mode": {
    "name": "ipython",
    "version": 3
   },
   "file_extension": ".py",
   "mimetype": "text/x-python",
   "name": "python",
   "nbconvert_exporter": "python",
   "pygments_lexer": "ipython3",
   "version": "3.10.2"
  },
  "orig_nbformat": 4
 },
 "nbformat": 4,
 "nbformat_minor": 2
}
